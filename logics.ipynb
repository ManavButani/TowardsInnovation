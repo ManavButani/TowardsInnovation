{
 "cells": [
  {
   "cell_type": "code",
   "execution_count": null,
   "metadata": {},
   "outputs": [],
   "source": [
    "# open high low close\n",
    "# 10   15   3    1\n",
    "# 15   10   1    2\n",
    "\n",
    "# Pela no open\n",
    "# Bija no close\n",
    "# max of high\n",
    "# min of low"
   ]
  },
  {
   "cell_type": "code",
   "execution_count": null,
   "metadata": {},
   "outputs": [],
   "source": [
    "# highest length candle\n",
    "# max(all) - min(all)\n",
    "# highest length candle means the most fluctuation on that period of time.\n",
    "# shortest length candle means the less fluctuation on that period"
   ]
  }
 ],
 "metadata": {
  "language_info": {
   "name": "python"
  }
 },
 "nbformat": 4,
 "nbformat_minor": 2
}
