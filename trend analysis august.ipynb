{
 "cells": [
  {
   "cell_type": "code",
   "execution_count": 1,
   "metadata": {},
   "outputs": [],
   "source": [
    "import pandas as pd"
   ]
  },
  {
   "cell_type": "code",
   "execution_count": 3,
   "metadata": {},
   "outputs": [],
   "source": [
    "df = pd.read_csv('trend_2024.csv')"
   ]
  },
  {
   "cell_type": "code",
   "execution_count": 6,
   "metadata": {},
   "outputs": [],
   "source": [
    "august = df[df['month']==10]"
   ]
  },
  {
   "cell_type": "code",
   "execution_count": 7,
   "metadata": {},
   "outputs": [
    {
     "data": {
      "text/html": [
       "<div>\n",
       "<style scoped>\n",
       "    .dataframe tbody tr th:only-of-type {\n",
       "        vertical-align: middle;\n",
       "    }\n",
       "\n",
       "    .dataframe tbody tr th {\n",
       "        vertical-align: top;\n",
       "    }\n",
       "\n",
       "    .dataframe thead th {\n",
       "        text-align: right;\n",
       "    }\n",
       "</style>\n",
       "<table border=\"1\" class=\"dataframe\">\n",
       "  <thead>\n",
       "    <tr style=\"text-align: right;\">\n",
       "      <th></th>\n",
       "      <th>open</th>\n",
       "      <th>high</th>\n",
       "      <th>low</th>\n",
       "      <th>close</th>\n",
       "      <th>adj close</th>\n",
       "      <th>volume</th>\n",
       "      <th>year</th>\n",
       "      <th>month</th>\n",
       "      <th>hour</th>\n",
       "      <th>day</th>\n",
       "      <th>day_name</th>\n",
       "      <th>candle_body</th>\n",
       "      <th>high_shadow</th>\n",
       "      <th>low_shadow</th>\n",
       "      <th>trend</th>\n",
       "    </tr>\n",
       "  </thead>\n",
       "  <tbody>\n",
       "  </tbody>\n",
       "</table>\n",
       "</div>"
      ],
      "text/plain": [
       "Empty DataFrame\n",
       "Columns: [open, high, low, close, adj close, volume, year, month, hour, day, day_name, candle_body, high_shadow, low_shadow, trend]\n",
       "Index: []"
      ]
     },
     "execution_count": 7,
     "metadata": {},
     "output_type": "execute_result"
    }
   ],
   "source": [
    "august"
   ]
  },
  {
   "cell_type": "code",
   "execution_count": 8,
   "metadata": {},
   "outputs": [],
   "source": [
    "august_dfs = [group.assign(volume=group['volume'] / max(group['volume'])) for _, group in august[['day','hour','volume', 'trend']].groupby('day')]\n",
    "total_days = len(august_dfs)\n",
    "\n",
    "most_repeating_august, least_repeating_august = [], []\n",
    "for august_df in august_dfs:\n",
    "    august_up_count = 0\n",
    "    august_down_count = 0\n",
    "    august_up_volume = 0\n",
    "    august_down_volume = 0\n",
    "    august_up_hours = []\n",
    "    sorted_hours = []\n",
    "    august_sorted_up_hours = []\n",
    "    august_down_hours = []\n",
    "    august_sorted_down_hours = []\n",
    "\n",
    "    print(\"~~~~~~~~~~~~~~~~\",august_df['day'].iloc[0],\" august ~~~~~~~~~~~~~~~~~~\")\n",
    "    august_hour_volume = {hour: volume for hour, volume in zip(august_df['hour'], august_df['volume'])}\n",
    "    august_hour_trend = {hour: trend for hour, trend in zip(august_df['hour'], august_df['trend'])}\n",
    "\n",
    "    print(august_hour_trend)\n",
    "    print(august_hour_volume)\n",
    "    print(\"-----------------\")\n",
    "\n",
    "\n",
    "    for hour, trend in august_hour_trend.items():\n",
    "        if trend == \"UP\":\n",
    "            august_up_count+=1\n",
    "            august_up_volume+=august_hour_volume.get(hour)\n",
    "            august_up_hours.append(hour)\n",
    "        else:\n",
    "            august_down_count+=1\n",
    "            august_down_volume+=august_hour_volume.get(hour)\n",
    "            august_down_hours.append(hour)\n",
    "\n",
    "    for hour in dict(sorted(august_hour_volume.items(), key=lambda item: item[1])).keys():\n",
    "        sorted_hours.append(hour)\n",
    "        if august_hour_trend.get(hour) == \"UP\":\n",
    "            august_sorted_up_hours.append(hour)\n",
    "        else:\n",
    "            august_sorted_down_hours.append(hour)\n",
    "\n",
    "    print(\"UP:::\", august_up_count, august_up_volume)\n",
    "    print(\"DOWN:::\", august_down_count, august_down_volume)\n",
    "    print(\"-----------------\")\n",
    "\n",
    "    print(\"UP Hours:::\", august_up_hours)\n",
    "    print(\"DOWN Hours:::\", august_down_hours)\n",
    "    print(\"-----------------\")\n",
    "\n",
    "    print(\"SORTED UP Hours:::\", august_sorted_up_hours)\n",
    "    print(\"SORTED DOWN Hours:::\", august_sorted_down_hours)\n",
    "    print(\"SORTED HOURS:::\", sorted_hours)\n",
    "    print(\"-----------------\")\n"
   ]
  }
 ],
 "metadata": {
  "kernelspec": {
   "display_name": "venv",
   "language": "python",
   "name": "python3"
  },
  "language_info": {
   "codemirror_mode": {
    "name": "ipython",
    "version": 3
   },
   "file_extension": ".py",
   "mimetype": "text/x-python",
   "name": "python",
   "nbconvert_exporter": "python",
   "pygments_lexer": "ipython3",
   "version": "3.10.4"
  }
 },
 "nbformat": 4,
 "nbformat_minor": 2
}
