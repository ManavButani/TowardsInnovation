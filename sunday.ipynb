{
 "cells": [
  {
   "cell_type": "code",
   "execution_count": 1,
   "metadata": {},
   "outputs": [],
   "source": [
    "import yfinance as yf\n",
    "import pandas as pd"
   ]
  },
  {
   "cell_type": "markdown",
   "metadata": {},
   "source": [
    "## Day wise analysis suggests that you should never trade in Saturday, Sunday.\n",
    "## If you are doing still. See below."
   ]
  },
  {
   "cell_type": "code",
   "execution_count": 2,
   "metadata": {},
   "outputs": [
    {
     "name": "stderr",
     "output_type": "stream",
     "text": [
      "[*********************100%%**********************]  1 of 1 completed\n"
     ]
    }
   ],
   "source": [
    "ticker_symbol = 'BTC-USD'\n",
    "df = yf.download(ticker_symbol, start='2024-01-01', end='2024-10-07', interval='60m')\n",
    "df.index.name = df.index.name.lower()\n",
    "df.columns = df.columns.str.lower()\n",
    "df['year'] = df.index.year\n",
    "df['month'] = df.index.month\n",
    "df['hour'] = df.index.hour\n",
    "df['day'] = df.index.day\n",
    "df['day_name'] = df.index.day_name()"
   ]
  },
  {
   "cell_type": "code",
   "execution_count": 3,
   "metadata": {},
   "outputs": [],
   "source": [
    "new_df = df.groupby(['day','day_name', 'month', 'hour']).agg({'volume': 'sum'}).reset_index().sort_values(by='volume', ascending=False)"
   ]
  },
  {
   "cell_type": "code",
   "execution_count": 5,
   "metadata": {},
   "outputs": [],
   "source": [
    "tuesday_data = new_df[new_df['day_name']=='Sunday']"
   ]
  },
  {
   "cell_type": "code",
   "execution_count": 6,
   "metadata": {},
   "outputs": [],
   "source": [
    "january_tuesday_hourly_groped = tuesday_data[tuesday_data['month']==1].groupby(['hour']).agg({'volume': 'sum'}).sort_values(by='volume', ascending=False)\n",
    "february_tuesday_hourly_groped = tuesday_data[tuesday_data['month']==2].groupby(['hour']).agg({'volume': 'sum'}).sort_values(by='volume', ascending=False)\n",
    "march_tuesday_hourly_groped = tuesday_data[tuesday_data['month']==3].groupby(['hour']).agg({'volume': 'sum'}).sort_values(by='volume', ascending=False)\n",
    "april_tuesday_hourly_groped = tuesday_data[tuesday_data['month']==4].groupby(['hour']).agg({'volume': 'sum'}).sort_values(by='volume', ascending=False)\n",
    "may_tuesday_hourly_groped = tuesday_data[tuesday_data['month']==5].groupby(['hour']).agg({'volume': 'sum'}).sort_values(by='volume', ascending=False)\n",
    "june_tuesday_hourly_groped = tuesday_data[tuesday_data['month']==6].groupby(['hour']).agg({'volume': 'sum'}).sort_values(by='volume', ascending=False)\n",
    "july_tuesday_hourly_groped = tuesday_data[tuesday_data['month']==7].groupby(['hour']).agg({'volume': 'sum'}).sort_values(by='volume', ascending=False)\n",
    "aug_tuesday_hourly_groped = tuesday_data[tuesday_data['month']==8].groupby(['hour']).agg({'volume': 'sum'}).sort_values(by='volume', ascending=False)\n",
    "sep_tuesday_hourly_groped = tuesday_data[tuesday_data['month']==9].groupby(['hour']).agg({'volume': 'sum'}).sort_values(by='volume', ascending=False)\n",
    "oct_tuesday_hourly_groped = tuesday_data[tuesday_data['month']==10].groupby(['hour']).agg({'volume': 'sum'}).sort_values(by='volume', ascending=False)"
   ]
  },
  {
   "cell_type": "code",
   "execution_count": 7,
   "metadata": {},
   "outputs": [
    {
     "name": "stdout",
     "output_type": "stream",
     "text": [
      "January [23 20 21 22 13  4  5 15 17 16 11 14 19  6 12 18  1  0  9  8  2  7 10  3]\n",
      "February [ 3 22 23  4  2 20  9  6 14  1 16  5  7 19 13 12 18 17 15 11 21  8 10  0]\n",
      "March [ 7 22 12 23  1  9 16  8 13 18 14 17 15  4  0 10 21  2  6 20  5 11  3 19]\n",
      "April [ 3  0 16 14  9 17 22  4  6 10  7 15 11 23 13 18 12  1  5 21 19 20  8  2]\n",
      "May [19 15 21 16 10 17  7 23 22  8 12 13 18 20 11  2  0  3 14  9  1  6  5  4]\n",
      "June [22 14 23 19 20 18 13  7 17 12 21 15 11  9 10 16  8  2  6  5  1  3  4  0]\n",
      "July [18 21 20  5  0  4 14  6 19  1  8 23 15  7 22  3 16 13 11 17 10 12  9  2]\n"
     ]
    }
   ],
   "source": [
    "print(\"January\", january_tuesday_hourly_groped.index.values)\n",
    "print(\"February\", february_tuesday_hourly_groped.index.values)\n",
    "print(\"March\", march_tuesday_hourly_groped.index.values)\n",
    "print(\"April\", april_tuesday_hourly_groped.index.values)\n",
    "print(\"May\", may_tuesday_hourly_groped.index.values)\n",
    "print(\"June\", june_tuesday_hourly_groped.index.values)\n",
    "print(\"July\", july_tuesday_hourly_groped.index.values)\n",
    "# print(\"August\", aug_tuesday_hourly_groped.index.values)"
   ]
  },
  {
   "cell_type": "code",
   "execution_count": 8,
   "metadata": {},
   "outputs": [],
   "source": [
    "# Ana parathi aetli to khabar padi k 21,22,23 na samaye trade na karay volume bav low hoy chhe"
   ]
  },
  {
   "cell_type": "code",
   "execution_count": 9,
   "metadata": {},
   "outputs": [],
   "source": [
    "january_most_repeating = january_tuesday_hourly_groped.index.values[:len(january_tuesday_hourly_groped)//2]\n",
    "january_least_repeating = january_tuesday_hourly_groped.index.values[len(january_tuesday_hourly_groped)//2:]\n",
    "\n",
    "february_most_repeating = february_tuesday_hourly_groped.index.values[:len(february_tuesday_hourly_groped)//2]\n",
    "february_least_repeating = february_tuesday_hourly_groped.index.values[len(february_tuesday_hourly_groped)//2:]\n",
    "\n",
    "march_most_repeating = march_tuesday_hourly_groped.index.values[:len(march_tuesday_hourly_groped)//2]\n",
    "march_least_repeating = march_tuesday_hourly_groped.index.values[len(march_tuesday_hourly_groped)//2:]\n",
    "\n",
    "april_most_repeating = april_tuesday_hourly_groped.index.values[:len(april_tuesday_hourly_groped)//2]\n",
    "april_least_repeating = april_tuesday_hourly_groped.index.values[len(april_tuesday_hourly_groped)//2:]\n",
    "\n",
    "may_most_repeating = may_tuesday_hourly_groped.index.values[:len(may_tuesday_hourly_groped)//2]\n",
    "may_least_repeating = may_tuesday_hourly_groped.index.values[len(may_tuesday_hourly_groped)//2:]\n",
    "\n",
    "june_most_repeating = june_tuesday_hourly_groped.index.values[:len(june_tuesday_hourly_groped)//2]\n",
    "june_least_repeating = june_tuesday_hourly_groped.index.values[len(june_tuesday_hourly_groped)//2:]\n",
    "\n",
    "july_most_repeating = july_tuesday_hourly_groped.index.values[:len(july_tuesday_hourly_groped)//2]\n",
    "july_least_repeating = july_tuesday_hourly_groped.index.values[len(july_tuesday_hourly_groped)//2:]\n"
   ]
  },
  {
   "cell_type": "code",
   "execution_count": 10,
   "metadata": {},
   "outputs": [],
   "source": [
    "most_repeating = list(january_most_repeating) + list(february_most_repeating) + list(march_most_repeating) + list(april_most_repeating) + list(may_most_repeating) + list(june_most_repeating) + list(july_most_repeating)"
   ]
  },
  {
   "cell_type": "code",
   "execution_count": 11,
   "metadata": {},
   "outputs": [],
   "source": [
    "least_repeating = list(january_least_repeating) + list(february_least_repeating) + list(march_least_repeating) + list(april_least_repeating) + list(may_least_repeating) + list(june_least_repeating) + list(july_least_repeating)"
   ]
  },
  {
   "cell_type": "code",
   "execution_count": 12,
   "metadata": {},
   "outputs": [
    {
     "data": {
      "text/plain": [
       "84"
      ]
     },
     "execution_count": 12,
     "metadata": {},
     "output_type": "execute_result"
    }
   ],
   "source": [
    "len(least_repeating)"
   ]
  },
  {
   "cell_type": "code",
   "execution_count": 13,
   "metadata": {},
   "outputs": [
    {
     "data": {
      "text/plain": [
       "84"
      ]
     },
     "execution_count": 13,
     "metadata": {},
     "output_type": "execute_result"
    }
   ],
   "source": [
    "len(most_repeating)"
   ]
  },
  {
   "cell_type": "code",
   "execution_count": 14,
   "metadata": {},
   "outputs": [],
   "source": [
    "from collections import Counter\n",
    "most_repeating_counts = Counter(most_repeating)\n",
    "least_repeating_counts = Counter(least_repeating)"
   ]
  },
  {
   "cell_type": "code",
   "execution_count": 15,
   "metadata": {},
   "outputs": [
    {
     "data": {
      "text/plain": [
       "Counter({23: 6,\n",
       "         22: 6,\n",
       "         14: 6,\n",
       "         17: 5,\n",
       "         16: 5,\n",
       "         20: 4,\n",
       "         21: 4,\n",
       "         13: 4,\n",
       "         4: 4,\n",
       "         15: 4,\n",
       "         7: 4,\n",
       "         5: 3,\n",
       "         9: 3,\n",
       "         6: 3,\n",
       "         1: 3,\n",
       "         12: 3,\n",
       "         8: 3,\n",
       "         18: 3,\n",
       "         19: 3,\n",
       "         3: 2,\n",
       "         0: 2,\n",
       "         10: 2,\n",
       "         11: 1,\n",
       "         2: 1})"
      ]
     },
     "execution_count": 15,
     "metadata": {},
     "output_type": "execute_result"
    }
   ],
   "source": [
    "most_repeating_counts"
   ]
  },
  {
   "cell_type": "code",
   "execution_count": 16,
   "metadata": {},
   "outputs": [
    {
     "data": {
      "text/plain": [
       "Counter({2: 6,\n",
       "         11: 6,\n",
       "         0: 5,\n",
       "         10: 5,\n",
       "         3: 5,\n",
       "         19: 4,\n",
       "         6: 4,\n",
       "         12: 4,\n",
       "         18: 4,\n",
       "         1: 4,\n",
       "         9: 4,\n",
       "         8: 4,\n",
       "         5: 4,\n",
       "         7: 3,\n",
       "         13: 3,\n",
       "         15: 3,\n",
       "         21: 3,\n",
       "         4: 3,\n",
       "         20: 3,\n",
       "         17: 2,\n",
       "         16: 2,\n",
       "         23: 1,\n",
       "         14: 1,\n",
       "         22: 1})"
      ]
     },
     "execution_count": 16,
     "metadata": {},
     "output_type": "execute_result"
    }
   ],
   "source": [
    "least_repeating_counts"
   ]
  },
  {
   "cell_type": "code",
   "execution_count": 17,
   "metadata": {},
   "outputs": [],
   "source": [
    "# At 23, the volume is very low."
   ]
  },
  {
   "cell_type": "code",
   "execution_count": 18,
   "metadata": {},
   "outputs": [],
   "source": [
    "most_repeating = dict(sorted(most_repeating_counts.items(), key=lambda item: item[0]))\n",
    "least_repeating = dict(sorted(least_repeating_counts.items(), key=lambda item: item[0]))"
   ]
  },
  {
   "cell_type": "code",
   "execution_count": 19,
   "metadata": {},
   "outputs": [
    {
     "data": {
      "text/plain": [
       "{0: 2,\n",
       " 1: 3,\n",
       " 2: 1,\n",
       " 3: 2,\n",
       " 4: 4,\n",
       " 5: 3,\n",
       " 6: 3,\n",
       " 7: 4,\n",
       " 8: 3,\n",
       " 9: 3,\n",
       " 10: 2,\n",
       " 11: 1,\n",
       " 12: 3,\n",
       " 13: 4,\n",
       " 14: 6,\n",
       " 15: 4,\n",
       " 16: 5,\n",
       " 17: 5,\n",
       " 18: 3,\n",
       " 19: 3,\n",
       " 20: 4,\n",
       " 21: 4,\n",
       " 22: 6,\n",
       " 23: 6}"
      ]
     },
     "execution_count": 19,
     "metadata": {},
     "output_type": "execute_result"
    }
   ],
   "source": [
    "most_repeating"
   ]
  },
  {
   "cell_type": "code",
   "execution_count": 20,
   "metadata": {},
   "outputs": [
    {
     "data": {
      "text/plain": [
       "{0: 5,\n",
       " 1: 4,\n",
       " 2: 6,\n",
       " 3: 5,\n",
       " 4: 3,\n",
       " 5: 4,\n",
       " 6: 4,\n",
       " 7: 3,\n",
       " 8: 4,\n",
       " 9: 4,\n",
       " 10: 5,\n",
       " 11: 6,\n",
       " 12: 4,\n",
       " 13: 3,\n",
       " 14: 1,\n",
       " 15: 3,\n",
       " 16: 2,\n",
       " 17: 2,\n",
       " 18: 4,\n",
       " 19: 4,\n",
       " 20: 3,\n",
       " 21: 3,\n",
       " 22: 1,\n",
       " 23: 1}"
      ]
     },
     "execution_count": 20,
     "metadata": {},
     "output_type": "execute_result"
    }
   ],
   "source": [
    "least_repeating"
   ]
  },
  {
   "cell_type": "code",
   "execution_count": 21,
   "metadata": {},
   "outputs": [],
   "source": [
    "# Give me the timestamp where volume category comes in range of more than 60%.\n",
    "\n",
    "# x / 7 ? >= 0.6\n",
    "\n",
    "# x could be [5,6,7]"
   ]
  },
  {
   "cell_type": "code",
   "execution_count": 22,
   "metadata": {},
   "outputs": [],
   "source": [
    "# means you should avoid trades or make a trade, right \n",
    "\n",
    "avoid_trades = [key for key, value in least_repeating.items() if value > 4]\n",
    "make_trades = [key for key, value in most_repeating.items() if value > 4]"
   ]
  },
  {
   "cell_type": "code",
   "execution_count": 23,
   "metadata": {},
   "outputs": [
    {
     "data": {
      "text/plain": [
       "[0, 2, 3, 10, 11]"
      ]
     },
     "execution_count": 23,
     "metadata": {},
     "output_type": "execute_result"
    }
   ],
   "source": [
    "avoid_trades"
   ]
  },
  {
   "cell_type": "code",
   "execution_count": 24,
   "metadata": {},
   "outputs": [
    {
     "data": {
      "text/plain": [
       "[14, 16, 17, 22, 23]"
      ]
     },
     "execution_count": 24,
     "metadata": {},
     "output_type": "execute_result"
    }
   ],
   "source": [
    "make_trades"
   ]
  }
 ],
 "metadata": {
  "kernelspec": {
   "display_name": "venv",
   "language": "python",
   "name": "python3"
  },
  "language_info": {
   "codemirror_mode": {
    "name": "ipython",
    "version": 3
   },
   "file_extension": ".py",
   "mimetype": "text/x-python",
   "name": "python",
   "nbconvert_exporter": "python",
   "pygments_lexer": "ipython3",
   "version": "3.10.8"
  }
 },
 "nbformat": 4,
 "nbformat_minor": 2
}
