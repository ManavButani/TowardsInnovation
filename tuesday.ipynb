{
 "cells": [
  {
   "cell_type": "code",
   "execution_count": 1,
   "metadata": {},
   "outputs": [],
   "source": [
    "import yfinance as yf\n",
    "import pandas as pd"
   ]
  },
  {
   "cell_type": "code",
   "execution_count": 2,
   "metadata": {},
   "outputs": [
    {
     "name": "stderr",
     "output_type": "stream",
     "text": [
      "[*********************100%%**********************]  1 of 1 completed\n"
     ]
    }
   ],
   "source": [
    "ticker_symbol = 'BTC-USD'\n",
    "df = yf.download(ticker_symbol, start='2024-01-01', end='2024-10-07', interval='60m')\n",
    "df.index.name = df.index.name.lower()\n",
    "df.columns = df.columns.str.lower()\n",
    "df['year'] = df.index.year\n",
    "df['month'] = df.index.month\n",
    "df['hour'] = df.index.hour\n",
    "df['day'] = df.index.day\n",
    "df['day_name'] = df.index.day_name()"
   ]
  },
  {
   "cell_type": "code",
   "execution_count": 3,
   "metadata": {},
   "outputs": [],
   "source": [
    "new_df = df.groupby(['day','day_name', 'month', 'hour']).agg({'volume': 'sum'}).reset_index().sort_values(by='volume', ascending=False)"
   ]
  },
  {
   "cell_type": "code",
   "execution_count": 4,
   "metadata": {},
   "outputs": [],
   "source": [
    "tuesday_data = new_df[new_df['day_name']=='Tuesday']"
   ]
  },
  {
   "cell_type": "code",
   "execution_count": 5,
   "metadata": {},
   "outputs": [],
   "source": [
    "january_tuesday_hourly_groped = tuesday_data[tuesday_data['month']==1].groupby(['hour']).agg({'volume': 'sum'}).sort_values(by='volume', ascending=False)\n",
    "february_tuesday_hourly_groped = tuesday_data[tuesday_data['month']==2].groupby(['hour']).agg({'volume': 'sum'}).sort_values(by='volume', ascending=False)\n",
    "march_tuesday_hourly_groped = tuesday_data[tuesday_data['month']==3].groupby(['hour']).agg({'volume': 'sum'}).sort_values(by='volume', ascending=False)\n",
    "april_tuesday_hourly_groped = tuesday_data[tuesday_data['month']==4].groupby(['hour']).agg({'volume': 'sum'}).sort_values(by='volume', ascending=False)\n",
    "may_tuesday_hourly_groped = tuesday_data[tuesday_data['month']==5].groupby(['hour']).agg({'volume': 'sum'}).sort_values(by='volume', ascending=False)\n",
    "june_tuesday_hourly_groped = tuesday_data[tuesday_data['month']==6].groupby(['hour']).agg({'volume': 'sum'}).sort_values(by='volume', ascending=False)\n",
    "july_tuesday_hourly_groped = tuesday_data[tuesday_data['month']==7].groupby(['hour']).agg({'volume': 'sum'}).sort_values(by='volume', ascending=False)\n",
    "aug_tuesday_hourly_groped = tuesday_data[tuesday_data['month']==8].groupby(['hour']).agg({'volume': 'sum'}).sort_values(by='volume', ascending=False)\n",
    "sep_tuesday_hourly_groped = tuesday_data[tuesday_data['month']==9].groupby(['hour']).agg({'volume': 'sum'}).sort_values(by='volume', ascending=False)\n",
    "oct_tuesday_hourly_groped = tuesday_data[tuesday_data['month']==10].groupby(['hour']).agg({'volume': 'sum'}).sort_values(by='volume', ascending=False)"
   ]
  },
  {
   "cell_type": "code",
   "execution_count": 6,
   "metadata": {},
   "outputs": [
    {
     "name": "stdout",
     "output_type": "stream",
     "text": [
      "January [21  0 15 14  1  9 13 12 16 22  8  2 11 17  7 23 20  3  4 10  5  6 19 18]\n",
      "February [14  5 13  2  1 12  3  4 15 11 10  9 17  8  7  6 20 19 18 23  0 16 21 22]\n",
      "March [20 17 16 15  5 19  7  4  3 21  6 18  9 11 12  2  1  8 10 23 14 22 13  0]\n",
      "April [ 2 11  4 10 14  9 13 16 20  3 12 21 17 19  8 15  0 18  1  5  6 22 23  7]\n",
      "May [13  0 14  1  3 12  6  2 11  4 10  5  9 15  8 18 23 22  7 19 17 21 16 20]\n",
      "June [ 2 15  1 14  4  3 16 13 18 12 11  5 17  9 19  0  8  7 20  6 21 22 23 10]\n",
      "July [20  5  7  8 14 11 15  0  6  9 18 10 16 12 19 23  1  4 17 13  2 22 21  3]\n"
     ]
    }
   ],
   "source": [
    "print(\"January\", january_tuesday_hourly_groped.index.values)\n",
    "print(\"February\", february_tuesday_hourly_groped.index.values)\n",
    "print(\"March\", march_tuesday_hourly_groped.index.values)\n",
    "print(\"April\", april_tuesday_hourly_groped.index.values)\n",
    "print(\"May\", may_tuesday_hourly_groped.index.values)\n",
    "print(\"June\", june_tuesday_hourly_groped.index.values)\n",
    "print(\"July\", july_tuesday_hourly_groped.index.values)\n",
    "# print(\"August\", aug_tuesday_hourly_groped.index.values)"
   ]
  },
  {
   "cell_type": "code",
   "execution_count": 7,
   "metadata": {},
   "outputs": [],
   "source": [
    "# Ana parathi aetli to khabar padi k 21,22,23 na samaye trade na karay volume bav low hoy chhe"
   ]
  },
  {
   "cell_type": "code",
   "execution_count": 8,
   "metadata": {},
   "outputs": [],
   "source": [
    "january_most_repeating = january_tuesday_hourly_groped.index.values[:len(january_tuesday_hourly_groped)//2]\n",
    "january_least_repeating = january_tuesday_hourly_groped.index.values[len(january_tuesday_hourly_groped)//2:]\n",
    "\n",
    "february_most_repeating = february_tuesday_hourly_groped.index.values[:len(february_tuesday_hourly_groped)//2]\n",
    "february_least_repeating = february_tuesday_hourly_groped.index.values[len(february_tuesday_hourly_groped)//2:]\n",
    "\n",
    "march_most_repeating = march_tuesday_hourly_groped.index.values[:len(march_tuesday_hourly_groped)//2]\n",
    "march_least_repeating = march_tuesday_hourly_groped.index.values[len(march_tuesday_hourly_groped)//2:]\n",
    "\n",
    "april_most_repeating = april_tuesday_hourly_groped.index.values[:len(april_tuesday_hourly_groped)//2]\n",
    "april_least_repeating = april_tuesday_hourly_groped.index.values[len(april_tuesday_hourly_groped)//2:]\n",
    "\n",
    "may_most_repeating = may_tuesday_hourly_groped.index.values[:len(may_tuesday_hourly_groped)//2]\n",
    "may_least_repeating = may_tuesday_hourly_groped.index.values[len(may_tuesday_hourly_groped)//2:]\n",
    "\n",
    "june_most_repeating = june_tuesday_hourly_groped.index.values[:len(june_tuesday_hourly_groped)//2]\n",
    "june_least_repeating = june_tuesday_hourly_groped.index.values[len(june_tuesday_hourly_groped)//2:]\n",
    "\n",
    "july_most_repeating = july_tuesday_hourly_groped.index.values[:len(july_tuesday_hourly_groped)//2]\n",
    "july_least_repeating = july_tuesday_hourly_groped.index.values[len(july_tuesday_hourly_groped)//2:]\n"
   ]
  },
  {
   "cell_type": "code",
   "execution_count": 9,
   "metadata": {},
   "outputs": [],
   "source": [
    "most_repeating = list(january_most_repeating) + list(february_most_repeating) + list(march_most_repeating) + list(april_most_repeating) + list(may_most_repeating) + list(june_most_repeating) + list(july_most_repeating)"
   ]
  },
  {
   "cell_type": "code",
   "execution_count": 10,
   "metadata": {},
   "outputs": [],
   "source": [
    "least_repeating = list(january_least_repeating) + list(february_least_repeating) + list(march_least_repeating) + list(april_least_repeating) + list(may_least_repeating) + list(june_least_repeating) + list(july_least_repeating)"
   ]
  },
  {
   "cell_type": "code",
   "execution_count": 11,
   "metadata": {},
   "outputs": [
    {
     "data": {
      "text/plain": [
       "84"
      ]
     },
     "execution_count": 11,
     "metadata": {},
     "output_type": "execute_result"
    }
   ],
   "source": [
    "len(least_repeating)"
   ]
  },
  {
   "cell_type": "code",
   "execution_count": 12,
   "metadata": {},
   "outputs": [
    {
     "data": {
      "text/plain": [
       "84"
      ]
     },
     "execution_count": 12,
     "metadata": {},
     "output_type": "execute_result"
    }
   ],
   "source": [
    "len(most_repeating)"
   ]
  },
  {
   "cell_type": "code",
   "execution_count": 16,
   "metadata": {},
   "outputs": [],
   "source": [
    "from collections import Counter\n",
    "most_repeating_counts = Counter(most_repeating)\n",
    "least_repeating_counts = Counter(least_repeating)"
   ]
  },
  {
   "cell_type": "code",
   "execution_count": 17,
   "metadata": {},
   "outputs": [
    {
     "data": {
      "text/plain": [
       "Counter({14: 6,\n",
       "         15: 5,\n",
       "         13: 5,\n",
       "         12: 5,\n",
       "         2: 5,\n",
       "         5: 5,\n",
       "         3: 5,\n",
       "         4: 5,\n",
       "         11: 5,\n",
       "         1: 4,\n",
       "         9: 4,\n",
       "         16: 4,\n",
       "         10: 4,\n",
       "         21: 3,\n",
       "         0: 3,\n",
       "         20: 3,\n",
       "         6: 3,\n",
       "         18: 3,\n",
       "         8: 2,\n",
       "         7: 2,\n",
       "         22: 1,\n",
       "         17: 1,\n",
       "         19: 1})"
      ]
     },
     "execution_count": 17,
     "metadata": {},
     "output_type": "execute_result"
    }
   ],
   "source": [
    "most_repeating_counts"
   ]
  },
  {
   "cell_type": "code",
   "execution_count": 18,
   "metadata": {},
   "outputs": [
    {
     "data": {
      "text/plain": [
       "Counter({23: 7,\n",
       "         17: 6,\n",
       "         19: 6,\n",
       "         22: 6,\n",
       "         7: 5,\n",
       "         8: 5,\n",
       "         20: 4,\n",
       "         6: 4,\n",
       "         18: 4,\n",
       "         0: 4,\n",
       "         21: 4,\n",
       "         10: 3,\n",
       "         16: 3,\n",
       "         9: 3,\n",
       "         1: 3,\n",
       "         11: 2,\n",
       "         3: 2,\n",
       "         4: 2,\n",
       "         5: 2,\n",
       "         12: 2,\n",
       "         2: 2,\n",
       "         13: 2,\n",
       "         15: 2,\n",
       "         14: 1})"
      ]
     },
     "execution_count": 18,
     "metadata": {},
     "output_type": "execute_result"
    }
   ],
   "source": [
    "least_repeating_counts"
   ]
  },
  {
   "cell_type": "code",
   "execution_count": null,
   "metadata": {},
   "outputs": [],
   "source": [
    "# At 23, the volume is very low."
   ]
  },
  {
   "cell_type": "code",
   "execution_count": 19,
   "metadata": {},
   "outputs": [],
   "source": [
    "most_repeating = dict(sorted(most_repeating_counts.items(), key=lambda item: item[0]))\n",
    "least_repeating = dict(sorted(least_repeating_counts.items(), key=lambda item: item[0]))"
   ]
  },
  {
   "cell_type": "code",
   "execution_count": 20,
   "metadata": {},
   "outputs": [
    {
     "data": {
      "text/plain": [
       "{0: 3,\n",
       " 1: 4,\n",
       " 2: 5,\n",
       " 3: 5,\n",
       " 4: 5,\n",
       " 5: 5,\n",
       " 6: 3,\n",
       " 7: 2,\n",
       " 8: 2,\n",
       " 9: 4,\n",
       " 10: 4,\n",
       " 11: 5,\n",
       " 12: 5,\n",
       " 13: 5,\n",
       " 14: 6,\n",
       " 15: 5,\n",
       " 16: 4,\n",
       " 17: 1,\n",
       " 18: 3,\n",
       " 19: 1,\n",
       " 20: 3,\n",
       " 21: 3,\n",
       " 22: 1}"
      ]
     },
     "execution_count": 20,
     "metadata": {},
     "output_type": "execute_result"
    }
   ],
   "source": [
    "most_repeating"
   ]
  },
  {
   "cell_type": "code",
   "execution_count": 21,
   "metadata": {},
   "outputs": [
    {
     "data": {
      "text/plain": [
       "{0: 4,\n",
       " 1: 3,\n",
       " 2: 2,\n",
       " 3: 2,\n",
       " 4: 2,\n",
       " 5: 2,\n",
       " 6: 4,\n",
       " 7: 5,\n",
       " 8: 5,\n",
       " 9: 3,\n",
       " 10: 3,\n",
       " 11: 2,\n",
       " 12: 2,\n",
       " 13: 2,\n",
       " 14: 1,\n",
       " 15: 2,\n",
       " 16: 3,\n",
       " 17: 6,\n",
       " 18: 4,\n",
       " 19: 6,\n",
       " 20: 4,\n",
       " 21: 4,\n",
       " 22: 6,\n",
       " 23: 7}"
      ]
     },
     "execution_count": 21,
     "metadata": {},
     "output_type": "execute_result"
    }
   ],
   "source": [
    "least_repeating"
   ]
  },
  {
   "cell_type": "code",
   "execution_count": 22,
   "metadata": {},
   "outputs": [],
   "source": [
    "# Give me the timestamp where volume category comes in range of more than 60%.\n",
    "\n",
    "# x / 7 ? >= 0.6\n",
    "\n",
    "# x could be [5,6,7]"
   ]
  },
  {
   "cell_type": "code",
   "execution_count": 23,
   "metadata": {},
   "outputs": [],
   "source": [
    "# means you should avoid trades or make a trade, right \n",
    "\n",
    "avoid_trades = [key for key, value in least_repeating.items() if value > 4]\n",
    "make_trades = [key for key, value in most_repeating.items() if value > 4]"
   ]
  },
  {
   "cell_type": "code",
   "execution_count": 24,
   "metadata": {},
   "outputs": [
    {
     "data": {
      "text/plain": [
       "[7, 8, 17, 19, 22, 23]"
      ]
     },
     "execution_count": 24,
     "metadata": {},
     "output_type": "execute_result"
    }
   ],
   "source": [
    "avoid_trades"
   ]
  },
  {
   "cell_type": "code",
   "execution_count": 25,
   "metadata": {},
   "outputs": [
    {
     "data": {
      "text/plain": [
       "[2, 3, 4, 5, 11, 12, 13, 14, 15]"
      ]
     },
     "execution_count": 25,
     "metadata": {},
     "output_type": "execute_result"
    }
   ],
   "source": [
    "make_trades"
   ]
  },
  {
   "cell_type": "code",
   "execution_count": null,
   "metadata": {},
   "outputs": [],
   "source": []
  }
 ],
 "metadata": {
  "kernelspec": {
   "display_name": "venv",
   "language": "python",
   "name": "python3"
  },
  "language_info": {
   "codemirror_mode": {
    "name": "ipython",
    "version": 3
   },
   "file_extension": ".py",
   "mimetype": "text/x-python",
   "name": "python",
   "nbconvert_exporter": "python",
   "pygments_lexer": "ipython3",
   "version": "3.10.8"
  }
 },
 "nbformat": 4,
 "nbformat_minor": 2
}
