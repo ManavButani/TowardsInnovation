{
 "cells": [
  {
   "cell_type": "code",
   "execution_count": 5,
   "metadata": {},
   "outputs": [],
   "source": [
    "import pandas as pd"
   ]
  },
  {
   "cell_type": "code",
   "execution_count": 6,
   "metadata": {},
   "outputs": [],
   "source": [
    "df = pd.read_csv('NIFTY 50 - Minute data 2015 to Aug 2024.csv')\n",
    "df.index = pd.to_datetime(df['date'])"
   ]
  },
  {
   "cell_type": "code",
   "execution_count": 7,
   "metadata": {},
   "outputs": [],
   "source": [
    "import mplfinance as mpf"
   ]
  },
  {
   "cell_type": "code",
   "execution_count": 8,
   "metadata": {},
   "outputs": [],
   "source": [
    "# df.index.name = df.index.name.lower()\n",
    "df.columns = df.columns.str.lower()\n",
    "\n",
    "df['year'] = df.index.year\n",
    "df['month'] = df.index.month\n",
    "df['hour'] = df.index.hour\n",
    "df['day'] = df.index.day\n",
    "df['day_name'] = df.index.day_name()\n",
    "df['hour'] = df.index.hour\n",
    "df['minute'] = df.index.minute\n",
    "df['hour'] = df.index.hour\n",
    "df['max'] = df[['open', 'high', 'low', 'close']].max(axis=1)\n",
    "df['min'] = df[['open', 'high', 'low', 'close']].min(axis=1)\n",
    "df['difference'] = df['max'] - df['min']\n",
    "df['candle_body'] = df['open'] - df['close']\n",
    "df['high_shadow'] = df['high'] - df['open']\n",
    "df['low_shadow'] = df['close'] - df['low']\n",
    "df['trend'] = df['candle_body'].apply(lambda x: \"DOWN\" if x < 0 else \"ZERO\" if x == 0 else \"UP\")"
   ]
  },
  {
   "cell_type": "code",
   "execution_count": 9,
   "metadata": {},
   "outputs": [
    {
     "data": {
      "text/plain": [
       "(890511, 19)"
      ]
     },
     "execution_count": 9,
     "metadata": {},
     "output_type": "execute_result"
    }
   ],
   "source": [
    "df.shape"
   ]
  },
  {
   "cell_type": "code",
   "execution_count": 10,
   "metadata": {},
   "outputs": [],
   "source": [
    "df = df[df['year'] >= 2021]"
   ]
  },
  {
   "cell_type": "code",
   "execution_count": 11,
   "metadata": {},
   "outputs": [],
   "source": [
    "import os"
   ]
  },
  {
   "cell_type": "code",
   "execution_count": 12,
   "metadata": {},
   "outputs": [],
   "source": [
    "filtered_df = df.groupby(['year', 'month', 'day']).head(5)"
   ]
  },
  {
   "cell_type": "code",
   "execution_count": 13,
   "metadata": {},
   "outputs": [
    {
     "data": {
      "text/html": [
       "<div>\n",
       "<style scoped>\n",
       "    .dataframe tbody tr th:only-of-type {\n",
       "        vertical-align: middle;\n",
       "    }\n",
       "\n",
       "    .dataframe tbody tr th {\n",
       "        vertical-align: top;\n",
       "    }\n",
       "\n",
       "    .dataframe thead th {\n",
       "        text-align: right;\n",
       "    }\n",
       "</style>\n",
       "<table border=\"1\" class=\"dataframe\">\n",
       "  <thead>\n",
       "    <tr style=\"text-align: right;\">\n",
       "      <th></th>\n",
       "      <th>date</th>\n",
       "      <th>open</th>\n",
       "      <th>high</th>\n",
       "      <th>low</th>\n",
       "      <th>close</th>\n",
       "      <th>volume</th>\n",
       "      <th>year</th>\n",
       "      <th>month</th>\n",
       "      <th>hour</th>\n",
       "      <th>day</th>\n",
       "      <th>day_name</th>\n",
       "      <th>minute</th>\n",
       "      <th>max</th>\n",
       "      <th>min</th>\n",
       "      <th>difference</th>\n",
       "      <th>candle_body</th>\n",
       "      <th>high_shadow</th>\n",
       "      <th>low_shadow</th>\n",
       "      <th>trend</th>\n",
       "    </tr>\n",
       "    <tr>\n",
       "      <th>date</th>\n",
       "      <th></th>\n",
       "      <th></th>\n",
       "      <th></th>\n",
       "      <th></th>\n",
       "      <th></th>\n",
       "      <th></th>\n",
       "      <th></th>\n",
       "      <th></th>\n",
       "      <th></th>\n",
       "      <th></th>\n",
       "      <th></th>\n",
       "      <th></th>\n",
       "      <th></th>\n",
       "      <th></th>\n",
       "      <th></th>\n",
       "      <th></th>\n",
       "      <th></th>\n",
       "      <th></th>\n",
       "      <th></th>\n",
       "    </tr>\n",
       "  </thead>\n",
       "  <tbody>\n",
       "    <tr>\n",
       "      <th>2021-01-01 09:15:00+05:30</th>\n",
       "      <td>2021-01-01 09:15:00+05:30</td>\n",
       "      <td>13996.10</td>\n",
       "      <td>14019.50</td>\n",
       "      <td>13994.85</td>\n",
       "      <td>14013.15</td>\n",
       "      <td>0</td>\n",
       "      <td>2021</td>\n",
       "      <td>1</td>\n",
       "      <td>9</td>\n",
       "      <td>1</td>\n",
       "      <td>Friday</td>\n",
       "      <td>15</td>\n",
       "      <td>14019.50</td>\n",
       "      <td>13994.85</td>\n",
       "      <td>24.65</td>\n",
       "      <td>-17.05</td>\n",
       "      <td>23.40</td>\n",
       "      <td>18.30</td>\n",
       "      <td>DOWN</td>\n",
       "    </tr>\n",
       "    <tr>\n",
       "      <th>2021-01-01 09:16:00+05:30</th>\n",
       "      <td>2021-01-01 09:16:00+05:30</td>\n",
       "      <td>14014.85</td>\n",
       "      <td>14018.55</td>\n",
       "      <td>14008.15</td>\n",
       "      <td>14009.05</td>\n",
       "      <td>0</td>\n",
       "      <td>2021</td>\n",
       "      <td>1</td>\n",
       "      <td>9</td>\n",
       "      <td>1</td>\n",
       "      <td>Friday</td>\n",
       "      <td>16</td>\n",
       "      <td>14018.55</td>\n",
       "      <td>14008.15</td>\n",
       "      <td>10.40</td>\n",
       "      <td>5.80</td>\n",
       "      <td>3.70</td>\n",
       "      <td>0.90</td>\n",
       "      <td>UP</td>\n",
       "    </tr>\n",
       "    <tr>\n",
       "      <th>2021-01-01 09:17:00+05:30</th>\n",
       "      <td>2021-01-01 09:17:00+05:30</td>\n",
       "      <td>14008.05</td>\n",
       "      <td>14013.10</td>\n",
       "      <td>14005.05</td>\n",
       "      <td>14012.70</td>\n",
       "      <td>0</td>\n",
       "      <td>2021</td>\n",
       "      <td>1</td>\n",
       "      <td>9</td>\n",
       "      <td>1</td>\n",
       "      <td>Friday</td>\n",
       "      <td>17</td>\n",
       "      <td>14013.10</td>\n",
       "      <td>14005.05</td>\n",
       "      <td>8.05</td>\n",
       "      <td>-4.65</td>\n",
       "      <td>5.05</td>\n",
       "      <td>7.65</td>\n",
       "      <td>DOWN</td>\n",
       "    </tr>\n",
       "    <tr>\n",
       "      <th>2021-01-01 09:18:00+05:30</th>\n",
       "      <td>2021-01-01 09:18:00+05:30</td>\n",
       "      <td>14013.65</td>\n",
       "      <td>14019.10</td>\n",
       "      <td>14013.65</td>\n",
       "      <td>14016.20</td>\n",
       "      <td>0</td>\n",
       "      <td>2021</td>\n",
       "      <td>1</td>\n",
       "      <td>9</td>\n",
       "      <td>1</td>\n",
       "      <td>Friday</td>\n",
       "      <td>18</td>\n",
       "      <td>14019.10</td>\n",
       "      <td>14013.65</td>\n",
       "      <td>5.45</td>\n",
       "      <td>-2.55</td>\n",
       "      <td>5.45</td>\n",
       "      <td>2.55</td>\n",
       "      <td>DOWN</td>\n",
       "    </tr>\n",
       "    <tr>\n",
       "      <th>2021-01-01 09:19:00+05:30</th>\n",
       "      <td>2021-01-01 09:19:00+05:30</td>\n",
       "      <td>14015.45</td>\n",
       "      <td>14017.80</td>\n",
       "      <td>14011.95</td>\n",
       "      <td>14015.45</td>\n",
       "      <td>0</td>\n",
       "      <td>2021</td>\n",
       "      <td>1</td>\n",
       "      <td>9</td>\n",
       "      <td>1</td>\n",
       "      <td>Friday</td>\n",
       "      <td>19</td>\n",
       "      <td>14017.80</td>\n",
       "      <td>14011.95</td>\n",
       "      <td>5.85</td>\n",
       "      <td>0.00</td>\n",
       "      <td>2.35</td>\n",
       "      <td>3.50</td>\n",
       "      <td>ZERO</td>\n",
       "    </tr>\n",
       "    <tr>\n",
       "      <th>2021-01-04 09:15:00+05:30</th>\n",
       "      <td>2021-01-04 09:15:00+05:30</td>\n",
       "      <td>14104.35</td>\n",
       "      <td>14106.40</td>\n",
       "      <td>14091.65</td>\n",
       "      <td>14097.10</td>\n",
       "      <td>0</td>\n",
       "      <td>2021</td>\n",
       "      <td>1</td>\n",
       "      <td>9</td>\n",
       "      <td>4</td>\n",
       "      <td>Monday</td>\n",
       "      <td>15</td>\n",
       "      <td>14106.40</td>\n",
       "      <td>14091.65</td>\n",
       "      <td>14.75</td>\n",
       "      <td>7.25</td>\n",
       "      <td>2.05</td>\n",
       "      <td>5.45</td>\n",
       "      <td>UP</td>\n",
       "    </tr>\n",
       "    <tr>\n",
       "      <th>2021-01-04 09:16:00+05:30</th>\n",
       "      <td>2021-01-04 09:16:00+05:30</td>\n",
       "      <td>14097.55</td>\n",
       "      <td>14099.85</td>\n",
       "      <td>14088.85</td>\n",
       "      <td>14089.85</td>\n",
       "      <td>0</td>\n",
       "      <td>2021</td>\n",
       "      <td>1</td>\n",
       "      <td>9</td>\n",
       "      <td>4</td>\n",
       "      <td>Monday</td>\n",
       "      <td>16</td>\n",
       "      <td>14099.85</td>\n",
       "      <td>14088.85</td>\n",
       "      <td>11.00</td>\n",
       "      <td>7.70</td>\n",
       "      <td>2.30</td>\n",
       "      <td>1.00</td>\n",
       "      <td>UP</td>\n",
       "    </tr>\n",
       "    <tr>\n",
       "      <th>2021-01-04 09:17:00+05:30</th>\n",
       "      <td>2021-01-04 09:17:00+05:30</td>\n",
       "      <td>14087.20</td>\n",
       "      <td>14089.15</td>\n",
       "      <td>14080.60</td>\n",
       "      <td>14082.50</td>\n",
       "      <td>0</td>\n",
       "      <td>2021</td>\n",
       "      <td>1</td>\n",
       "      <td>9</td>\n",
       "      <td>4</td>\n",
       "      <td>Monday</td>\n",
       "      <td>17</td>\n",
       "      <td>14089.15</td>\n",
       "      <td>14080.60</td>\n",
       "      <td>8.55</td>\n",
       "      <td>4.70</td>\n",
       "      <td>1.95</td>\n",
       "      <td>1.90</td>\n",
       "      <td>UP</td>\n",
       "    </tr>\n",
       "    <tr>\n",
       "      <th>2021-01-04 09:18:00+05:30</th>\n",
       "      <td>2021-01-04 09:18:00+05:30</td>\n",
       "      <td>14083.25</td>\n",
       "      <td>14088.60</td>\n",
       "      <td>14082.50</td>\n",
       "      <td>14086.85</td>\n",
       "      <td>0</td>\n",
       "      <td>2021</td>\n",
       "      <td>1</td>\n",
       "      <td>9</td>\n",
       "      <td>4</td>\n",
       "      <td>Monday</td>\n",
       "      <td>18</td>\n",
       "      <td>14088.60</td>\n",
       "      <td>14082.50</td>\n",
       "      <td>6.10</td>\n",
       "      <td>-3.60</td>\n",
       "      <td>5.35</td>\n",
       "      <td>4.35</td>\n",
       "      <td>DOWN</td>\n",
       "    </tr>\n",
       "    <tr>\n",
       "      <th>2021-01-04 09:19:00+05:30</th>\n",
       "      <td>2021-01-04 09:19:00+05:30</td>\n",
       "      <td>14087.35</td>\n",
       "      <td>14092.70</td>\n",
       "      <td>14087.35</td>\n",
       "      <td>14092.35</td>\n",
       "      <td>0</td>\n",
       "      <td>2021</td>\n",
       "      <td>1</td>\n",
       "      <td>9</td>\n",
       "      <td>4</td>\n",
       "      <td>Monday</td>\n",
       "      <td>19</td>\n",
       "      <td>14092.70</td>\n",
       "      <td>14087.35</td>\n",
       "      <td>5.35</td>\n",
       "      <td>-5.00</td>\n",
       "      <td>5.35</td>\n",
       "      <td>5.00</td>\n",
       "      <td>DOWN</td>\n",
       "    </tr>\n",
       "  </tbody>\n",
       "</table>\n",
       "</div>"
      ],
      "text/plain": [
       "                                                date      open      high  \\\n",
       "date                                                                       \n",
       "2021-01-01 09:15:00+05:30  2021-01-01 09:15:00+05:30  13996.10  14019.50   \n",
       "2021-01-01 09:16:00+05:30  2021-01-01 09:16:00+05:30  14014.85  14018.55   \n",
       "2021-01-01 09:17:00+05:30  2021-01-01 09:17:00+05:30  14008.05  14013.10   \n",
       "2021-01-01 09:18:00+05:30  2021-01-01 09:18:00+05:30  14013.65  14019.10   \n",
       "2021-01-01 09:19:00+05:30  2021-01-01 09:19:00+05:30  14015.45  14017.80   \n",
       "2021-01-04 09:15:00+05:30  2021-01-04 09:15:00+05:30  14104.35  14106.40   \n",
       "2021-01-04 09:16:00+05:30  2021-01-04 09:16:00+05:30  14097.55  14099.85   \n",
       "2021-01-04 09:17:00+05:30  2021-01-04 09:17:00+05:30  14087.20  14089.15   \n",
       "2021-01-04 09:18:00+05:30  2021-01-04 09:18:00+05:30  14083.25  14088.60   \n",
       "2021-01-04 09:19:00+05:30  2021-01-04 09:19:00+05:30  14087.35  14092.70   \n",
       "\n",
       "                                low     close  volume  year  month  hour  day  \\\n",
       "date                                                                            \n",
       "2021-01-01 09:15:00+05:30  13994.85  14013.15       0  2021      1     9    1   \n",
       "2021-01-01 09:16:00+05:30  14008.15  14009.05       0  2021      1     9    1   \n",
       "2021-01-01 09:17:00+05:30  14005.05  14012.70       0  2021      1     9    1   \n",
       "2021-01-01 09:18:00+05:30  14013.65  14016.20       0  2021      1     9    1   \n",
       "2021-01-01 09:19:00+05:30  14011.95  14015.45       0  2021      1     9    1   \n",
       "2021-01-04 09:15:00+05:30  14091.65  14097.10       0  2021      1     9    4   \n",
       "2021-01-04 09:16:00+05:30  14088.85  14089.85       0  2021      1     9    4   \n",
       "2021-01-04 09:17:00+05:30  14080.60  14082.50       0  2021      1     9    4   \n",
       "2021-01-04 09:18:00+05:30  14082.50  14086.85       0  2021      1     9    4   \n",
       "2021-01-04 09:19:00+05:30  14087.35  14092.35       0  2021      1     9    4   \n",
       "\n",
       "                          day_name  minute       max       min  difference  \\\n",
       "date                                                                         \n",
       "2021-01-01 09:15:00+05:30   Friday      15  14019.50  13994.85       24.65   \n",
       "2021-01-01 09:16:00+05:30   Friday      16  14018.55  14008.15       10.40   \n",
       "2021-01-01 09:17:00+05:30   Friday      17  14013.10  14005.05        8.05   \n",
       "2021-01-01 09:18:00+05:30   Friday      18  14019.10  14013.65        5.45   \n",
       "2021-01-01 09:19:00+05:30   Friday      19  14017.80  14011.95        5.85   \n",
       "2021-01-04 09:15:00+05:30   Monday      15  14106.40  14091.65       14.75   \n",
       "2021-01-04 09:16:00+05:30   Monday      16  14099.85  14088.85       11.00   \n",
       "2021-01-04 09:17:00+05:30   Monday      17  14089.15  14080.60        8.55   \n",
       "2021-01-04 09:18:00+05:30   Monday      18  14088.60  14082.50        6.10   \n",
       "2021-01-04 09:19:00+05:30   Monday      19  14092.70  14087.35        5.35   \n",
       "\n",
       "                           candle_body  high_shadow  low_shadow trend  \n",
       "date                                                                   \n",
       "2021-01-01 09:15:00+05:30       -17.05        23.40       18.30  DOWN  \n",
       "2021-01-01 09:16:00+05:30         5.80         3.70        0.90    UP  \n",
       "2021-01-01 09:17:00+05:30        -4.65         5.05        7.65  DOWN  \n",
       "2021-01-01 09:18:00+05:30        -2.55         5.45        2.55  DOWN  \n",
       "2021-01-01 09:19:00+05:30         0.00         2.35        3.50  ZERO  \n",
       "2021-01-04 09:15:00+05:30         7.25         2.05        5.45    UP  \n",
       "2021-01-04 09:16:00+05:30         7.70         2.30        1.00    UP  \n",
       "2021-01-04 09:17:00+05:30         4.70         1.95        1.90    UP  \n",
       "2021-01-04 09:18:00+05:30        -3.60         5.35        4.35  DOWN  \n",
       "2021-01-04 09:19:00+05:30        -5.00         5.35        5.00  DOWN  "
      ]
     },
     "execution_count": 13,
     "metadata": {},
     "output_type": "execute_result"
    }
   ],
   "source": [
    "filtered_df.head(10)"
   ]
  },
  {
   "cell_type": "code",
   "execution_count": 14,
   "metadata": {},
   "outputs": [],
   "source": [
    "# import pandas as pd\n",
    "\n",
    "# # Sample DataFrame\n",
    "# data = {\n",
    "#     'A': [1, 2],\n",
    "#     'B': ['a', 'b'],\n",
    "#     'C': [True, False]\n",
    "# }\n",
    "\n",
    "# df = pd.DataFrame(data)\n",
    "\n",
    "# # Melting the DataFrame\n",
    "# melted = df.melt(value_name='Value')\n",
    "# x = [1,2,3,4]\n",
    "# print(melted)\n",
    "# print(type(melted))\n",
    "# print(type(melted['Value']))\n",
    "# x.append(melted['Value'].)\n",
    "\n",
    "# print(x)\n"
   ]
  },
  {
   "cell_type": "code",
   "execution_count": 15,
   "metadata": {},
   "outputs": [],
   "source": [
    "df_5_min = pd.DataFrame()\n",
    "\n",
    "for i in range(0, len(filtered_df), 5):\n",
    "    # Iterate in steps of 5\n",
    "    # continue\n",
    "    stack = []\n",
    "    df_chunk = filtered_df.iloc[i:i+5] # Get 5 rows in each iteration\n",
    "    stack.extend(df_chunk['open'].to_list())\n",
    "    stack.extend(df_chunk['high'].to_list())\n",
    "    stack.extend(df_chunk['low'].to_list())\n",
    "    stack.extend(df_chunk['close'].to_list())\n",
    "\n",
    "    ohlc_data = pd.DataFrame({\n",
    "    'high' : [max(stack)],\n",
    "    'low' : [min(stack)],\n",
    "    'open' : [df_chunk.iloc[0].open],\n",
    "    'close' : [df_chunk.iloc[-1].close],\n",
    "    'year': [df_chunk.iloc[0].year],\n",
    "    'month': [df_chunk.iloc[0].month],\n",
    "    'day': [df_chunk.iloc[0].day],\n",
    "    'hour': [df_chunk.iloc[0].hour],\n",
    "    'minute': [df_chunk.iloc[0].minute],\n",
    "    })\n",
    "\n",
    "    ohlc_data.index = pd.to_datetime([f\"{int(df_chunk.iloc[-1].year)}-{int(df_chunk.iloc[-1].month)}-{int(df_chunk.iloc[-1].day)}\"])\n",
    "    df_5_min = pd.concat([df_5_min, ohlc_data])"
   ]
  },
  {
   "cell_type": "code",
   "execution_count": 16,
   "metadata": {},
   "outputs": [],
   "source": [
    "df_5_min.head(10)\n",
    "df_5_min['year'] = df_5_min['year'].astype(int)\n",
    "df_5_min['month'] = df_5_min['month'].astype(int)\n",
    "df_5_min['day'] = df_5_min['day'].astype(int)"
   ]
  },
  {
   "cell_type": "code",
   "execution_count": 17,
   "metadata": {},
   "outputs": [],
   "source": [
    "# for index, row in df_5_min.iterrows():\n",
    "# # Plot candlestick chart\n",
    "#     directory_path = f\"{os.getcwd()}/{int(row['year'])}_{int(row['month'])}/ohh_analysis\"\n",
    "#     if not os.path.exists(directory_path):\n",
    "#         os.makedirs(directory_path)\n",
    "    \n",
    "#     # Create a DataFrame with OHLC data for a single day\n",
    "#     ohlc_data = pd.DataFrame({\n",
    "#         'Open': [row['open']],\n",
    "#         'High': [row['high']],\n",
    "#         'Low': [row['low']],\n",
    "#         'Close': [row['close']],\n",
    "#     }, index=[pd.Timestamp(f\"10-08-2005\")])\n",
    "    \n",
    "\n",
    "#     mpf.plot(ohlc_data, type='candle', style='charles', title='Candlestick Chart', ylabel='Price', savefig=os.path.join(directory_path,str(int(row['day']))))"
   ]
  },
  {
   "cell_type": "code",
   "execution_count": 18,
   "metadata": {},
   "outputs": [],
   "source": [
    "df_5_min['candle_body'] = df_5_min['open'] - df_5_min['close']\n",
    "df_5_min['high_shadow'] = df_5_min['high'] - df_5_min['open']\n",
    "df_5_min['low_shadow'] = df_5_min['close'] - df_5_min['low']\n",
    "df_5_min['my_candle'] = df_5_min['low'] - df_5_min['open']\n",
    "df_5_min['trend'] = df_5_min['candle_body'].apply(lambda x: \"DOWN\" if x < 0 else \"ZERO\" if x == 0 else \"UP\")\n",
    "df_5_min['my_trend'] = df_5_min['my_candle'].apply(lambda x: \"YES\" if x < 0 else \"YES\" if x == 0 else \"NO\")\n",
    "trend_counts = df_5_min['trend'].value_counts()\n",
    "my_trend_counts = df_5_min['my_trend'].value_counts()"
   ]
  },
  {
   "cell_type": "code",
   "execution_count": 19,
   "metadata": {},
   "outputs": [
    {
     "data": {
      "text/plain": [
       "trend\n",
       "UP      513\n",
       "DOWN    393\n",
       "Name: count, dtype: int64"
      ]
     },
     "execution_count": 19,
     "metadata": {},
     "output_type": "execute_result"
    }
   ],
   "source": [
    "trend_counts"
   ]
  },
  {
   "cell_type": "code",
   "execution_count": 20,
   "metadata": {},
   "outputs": [
    {
     "data": {
      "text/plain": [
       "my_trend\n",
       "YES    906\n",
       "Name: count, dtype: int64"
      ]
     },
     "execution_count": 20,
     "metadata": {},
     "output_type": "execute_result"
    }
   ],
   "source": [
    "my_trend_counts"
   ]
  },
  {
   "cell_type": "code",
   "execution_count": 21,
   "metadata": {},
   "outputs": [],
   "source": [
    "monthly_wise_trend = df_5_min.groupby(['year','month'])['trend'].value_counts()"
   ]
  },
  {
   "cell_type": "code",
   "execution_count": 22,
   "metadata": {},
   "outputs": [
    {
     "data": {
      "text/plain": [
       "{(2021, 1, 'UP'): 13,\n",
       " (2021, 1, 'DOWN'): 7,\n",
       " (2021, 2, 'DOWN'): 11,\n",
       " (2021, 2, 'UP'): 9,\n",
       " (2021, 3, 'UP'): 14,\n",
       " (2021, 3, 'DOWN'): 7,\n",
       " (2021, 4, 'DOWN'): 11,\n",
       " (2021, 4, 'UP'): 8,\n",
       " (2021, 5, 'DOWN'): 12,\n",
       " (2021, 5, 'UP'): 8,\n",
       " (2021, 6, 'UP'): 14,\n",
       " (2021, 6, 'DOWN'): 8,\n",
       " (2021, 7, 'UP'): 13,\n",
       " (2021, 7, 'DOWN'): 8,\n",
       " (2021, 8, 'DOWN'): 11,\n",
       " (2021, 8, 'UP'): 10,\n",
       " (2021, 9, 'DOWN'): 11,\n",
       " (2021, 9, 'UP'): 10,\n",
       " (2021, 10, 'UP'): 12,\n",
       " (2021, 10, 'DOWN'): 8,\n",
       " (2021, 11, 'UP'): 11,\n",
       " (2021, 11, 'DOWN'): 9,\n",
       " (2021, 12, 'DOWN'): 12,\n",
       " (2021, 12, 'UP'): 11,\n",
       " (2022, 1, 'DOWN'): 10,\n",
       " (2022, 1, 'UP'): 10,\n",
       " (2022, 2, 'DOWN'): 10,\n",
       " (2022, 2, 'UP'): 10,\n",
       " (2022, 3, 'UP'): 11,\n",
       " (2022, 3, 'DOWN'): 10,\n",
       " (2022, 4, 'DOWN'): 10,\n",
       " (2022, 4, 'UP'): 9,\n",
       " (2022, 5, 'UP'): 11,\n",
       " (2022, 5, 'DOWN'): 10,\n",
       " (2022, 6, 'DOWN'): 13,\n",
       " (2022, 6, 'UP'): 9,\n",
       " (2022, 7, 'DOWN'): 13,\n",
       " (2022, 7, 'UP'): 8,\n",
       " (2022, 8, 'UP'): 11,\n",
       " (2022, 8, 'DOWN'): 9,\n",
       " (2022, 9, 'DOWN'): 12,\n",
       " (2022, 9, 'UP'): 10,\n",
       " (2022, 10, 'DOWN'): 11,\n",
       " (2022, 10, 'UP'): 8,\n",
       " (2022, 11, 'UP'): 11,\n",
       " (2022, 11, 'DOWN'): 10,\n",
       " (2022, 12, 'UP'): 12,\n",
       " (2022, 12, 'DOWN'): 10,\n",
       " (2023, 1, 'UP'): 19,\n",
       " (2023, 1, 'DOWN'): 2,\n",
       " (2023, 2, 'UP'): 15,\n",
       " (2023, 2, 'DOWN'): 5,\n",
       " (2023, 3, 'DOWN'): 12,\n",
       " (2023, 3, 'UP'): 9,\n",
       " (2023, 4, 'UP'): 13,\n",
       " (2023, 4, 'DOWN'): 4,\n",
       " (2023, 5, 'DOWN'): 11,\n",
       " (2023, 5, 'UP'): 11,\n",
       " (2023, 6, 'UP'): 13,\n",
       " (2023, 6, 'DOWN'): 8,\n",
       " (2023, 7, 'UP'): 15,\n",
       " (2023, 7, 'DOWN'): 6,\n",
       " (2023, 8, 'UP'): 17,\n",
       " (2023, 8, 'DOWN'): 5,\n",
       " (2023, 9, 'UP'): 13,\n",
       " (2023, 9, 'DOWN'): 7,\n",
       " (2023, 10, 'UP'): 11,\n",
       " (2023, 10, 'DOWN'): 9,\n",
       " (2023, 11, 'UP'): 11,\n",
       " (2023, 11, 'DOWN'): 10,\n",
       " (2023, 12, 'UP'): 12,\n",
       " (2023, 12, 'DOWN'): 8,\n",
       " (2024, 1, 'UP'): 13,\n",
       " (2024, 1, 'DOWN'): 9,\n",
       " (2024, 2, 'UP'): 16,\n",
       " (2024, 2, 'DOWN'): 5,\n",
       " (2024, 3, 'DOWN'): 12,\n",
       " (2024, 3, 'UP'): 7,\n",
       " (2024, 4, 'UP'): 13,\n",
       " (2024, 4, 'DOWN'): 7,\n",
       " (2024, 5, 'UP'): 12,\n",
       " (2024, 5, 'DOWN'): 10,\n",
       " (2024, 6, 'UP'): 13,\n",
       " (2024, 6, 'DOWN'): 6,\n",
       " (2024, 7, 'UP'): 14,\n",
       " (2024, 7, 'DOWN'): 8,\n",
       " (2024, 8, 'UP'): 13,\n",
       " (2024, 8, 'DOWN'): 6}"
      ]
     },
     "execution_count": 22,
     "metadata": {},
     "output_type": "execute_result"
    }
   ],
   "source": [
    "monthly_wise_trend.to_dict()"
   ]
  },
  {
   "cell_type": "code",
   "execution_count": 23,
   "metadata": {},
   "outputs": [],
   "source": [
    "year_2024 = df_5_min[df_5_min['year']==2024]['my_candle'].value_counts()"
   ]
  },
  {
   "cell_type": "code",
   "execution_count": 24,
   "metadata": {},
   "outputs": [
    {
     "name": "stdout",
     "output_type": "stream",
     "text": [
      "{0.0: 4, -0.2000000000007276: 1, -0.25: 1, -0.3499999999985448: 1, -0.3500000000021828: 1, -0.4500000000007276: 1, -0.5: 1, -0.5499999999992724: 1, -0.75: 1, -1.1000000000021828: 1, -2.150000000001455: 1, -2.25: 1, -3.149999999997817: 1, -3.5: 1, -4.350000000002183: 1, -4.549999999999272: 1, -4.599999999998545: 1, -5.400000000001455: 1, -5.5: 1, -6.75: 1, -7.049999999999272: 1, -7.399999999997817: 1, -7.549999999999272: 1, -7.850000000002183: 1, -8.600000000002183: 1, -8.94999999999709: 1, -9.150000000001455: 1, -10.299999999999272: 1, -10.399999999997817: 1, -11.049999999999272: 1, -11.099999999998545: 1, -11.25: 1, -11.450000000000728: 1, -11.650000000001455: 2, -11.849999999998545: 1, -12.44999999999709: 1, -13.950000000000728: 1, -14.0: 1, -15.25: 1, -16.049999999999272: 1, -16.150000000001455: 1, -17.149999999997817: 1, -17.850000000002183: 1, -17.900000000001455: 1, -19.0: 1, -19.099999999998545: 1, -19.650000000001455: 1, -19.799999999999272: 1, -19.849999999998545: 1, -20.200000000000728: 1, -20.5: 1, -21.25: 1, -21.399999999997817: 1, -21.450000000000728: 1, -21.700000000000728: 1, -22.150000000001455: 1, -22.75: 1, -23.05000000000291: 1, -24.450000000000728: 1, -25.649999999997817: 1, -25.650000000001455: 1, -25.700000000000728: 1, -26.049999999999272: 1, -26.649999999997817: 1, -28.200000000000728: 2, -28.5: 1, -28.599999999998545: 1, -29.400000000001455: 1, -29.549999999999272: 1, -30.450000000000728: 2, -30.549999999999272: 1, -30.799999999999272: 1, -31.399999999997817: 1, -31.5: 1, -32.04999999999927: 1, -32.05000000000291: 1, -32.79999999999927: 1, -33.75: 1, -33.79999999999927: 1, -34.04999999999927: 1, -34.20000000000073: 1, -34.349999999998545: 1, -34.35000000000218: 1, -35.35000000000218: 1, -35.39999999999782: 1, -36.39999999999782: 1, -36.650000000001455: 1, -36.79999999999927: 2, -37.79999999999927: 2, -37.900000000001455: 1, -38.0: 1, -39.35000000000218: 1, -39.55000000000291: 1, -39.849999999998545: 1, -39.95000000000073: 1, -40.650000000001455: 1, -40.75: 1, -40.89999999999782: 1, -40.900000000001455: 1, -41.14999999999782: 1, -41.25: 1, -41.29999999999927: 1, -41.45000000000073: 1, -42.60000000000218: 1, -45.150000000001455: 1, -45.400000000001455: 1, -45.60000000000218: 1, -46.25: 1, -46.35000000000218: 1, -48.04999999999927: 1, -48.5: 1, -49.0: 1, -50.0: 1, -50.10000000000218: 1, -50.79999999999927: 1, -51.29999999999927: 1, -51.70000000000073: 1, -51.80000000000291: 1, -52.0: 1, -52.19999999999709: 1, -52.20000000000073: 1, -52.25: 1, -53.0: 1, -53.5: 1, -54.150000000001455: 1, -54.69999999999709: 1, -55.79999999999927: 1, -56.349999999998545: 1, -56.54999999999927: 1, -57.19999999999709: 1, -58.39999999999782: 1, -59.29999999999927: 1, -60.20000000000073: 1, -60.79999999999927: 1, -62.25: 1, -62.54999999999927: 1, -64.09999999999854: 1, -65.04999999999927: 1, -66.0: 1, -66.45000000000073: 1, -66.64999999999782: 1, -70.94999999999709: 1, -71.85000000000218: 1, -74.10000000000218: 1, -76.25: 1, -81.04999999999927: 1, -82.10000000000218: 1, -83.45000000000073: 1, -84.40000000000146: 1, -84.65000000000146: 1, -87.64999999999782: 1, -113.95000000000073: 1, -127.75: 1, -176.09999999999854: 1, -254.20000000000073: 1, -454.7000000000007: 1}\n"
     ]
    }
   ],
   "source": [
    "sorted_dict_desc = dict(sorted(year_2024.items(), reverse=True))\n",
    "print(sorted_dict_desc)"
   ]
  },
  {
   "cell_type": "code",
   "execution_count": 25,
   "metadata": {},
   "outputs": [],
   "source": [
    "# df_5_min[df_5_min['year']==2024][df_5_min['month']==8]"
   ]
  },
  {
   "cell_type": "code",
   "execution_count": 26,
   "metadata": {},
   "outputs": [],
   "source": [
    "# df_5 = pd.read_csv('../nifty_ohlc/nifty_5m_august_2024.csv')\n",
    "# df_5"
   ]
  },
  {
   "cell_type": "code",
   "execution_count": 27,
   "metadata": {},
   "outputs": [],
   "source": [
    "import statistics"
   ]
  },
  {
   "cell_type": "code",
   "execution_count": 28,
   "metadata": {},
   "outputs": [],
   "source": [
    "data = list(year_2024.keys())\n",
    "\n",
    "mean_value = statistics.mean(data)\n",
    "\n",
    "# Median\n",
    "median_value = statistics.median(data)\n",
    "\n",
    "# Mode\n",
    "mode_value = statistics.mode(data)\n"
   ]
  },
  {
   "cell_type": "code",
   "execution_count": 29,
   "metadata": {},
   "outputs": [
    {
     "data": {
      "text/plain": [
       "-39.411217948717955"
      ]
     },
     "execution_count": 29,
     "metadata": {},
     "output_type": "execute_result"
    }
   ],
   "source": [
    "mean_value"
   ]
  },
  {
   "cell_type": "code",
   "execution_count": 30,
   "metadata": {},
   "outputs": [
    {
     "data": {
      "text/plain": [
       "-33.774999999999636"
      ]
     },
     "execution_count": 30,
     "metadata": {},
     "output_type": "execute_result"
    }
   ],
   "source": [
    "median_value"
   ]
  },
  {
   "cell_type": "code",
   "execution_count": 31,
   "metadata": {},
   "outputs": [
    {
     "data": {
      "text/plain": [
       "0.0"
      ]
     },
     "execution_count": 31,
     "metadata": {},
     "output_type": "execute_result"
    }
   ],
   "source": [
    "mode_value"
   ]
  },
  {
   "cell_type": "code",
   "execution_count": 32,
   "metadata": {},
   "outputs": [],
   "source": [
    "data.sort()"
   ]
  },
  {
   "cell_type": "code",
   "execution_count": 33,
   "metadata": {},
   "outputs": [
    {
     "data": {
      "text/plain": [
       "156"
      ]
     },
     "execution_count": 33,
     "metadata": {},
     "output_type": "execute_result"
    }
   ],
   "source": [
    "len(data)"
   ]
  },
  {
   "cell_type": "code",
   "execution_count": 34,
   "metadata": {},
   "outputs": [],
   "source": [
    "import matplotlib.pyplot as plt"
   ]
  },
  {
   "cell_type": "code",
   "execution_count": 35,
   "metadata": {},
   "outputs": [
    {
     "data": {
      "image/png": "[encoded data removed]",
      "text/plain": [
       "<Figure size 640x480 with 1 Axes>"
      ]
     },
     "metadata": {},
     "output_type": "display_data"
    }
   ],
   "source": [
    "plt.hist(data, bins=20, edgecolor='black', alpha=0.7)\n",
    "\n",
    "# Add labels and title\n",
    "plt.xlabel('Value')\n",
    "plt.ylabel('Frequency')\n",
    "plt.title('Histogram to Check Value Distribution')\n",
    "\n",
    "# Show the plot\n",
    "plt.show()"
   ]
  },
  {
   "cell_type": "code",
   "execution_count": 36,
   "metadata": {},
   "outputs": [],
   "source": [
    "filtered_data = list(filter(lambda x: x >= -100, data))"
   ]
  },
  {
   "cell_type": "code",
   "execution_count": 37,
   "metadata": {},
   "outputs": [
    {
     "data": {
      "image/png": "[encoded data removed]",
      "text/plain": [
       "<Figure size 640x480 with 1 Axes>"
      ]
     },
     "metadata": {},
     "output_type": "display_data"
    }
   ],
   "source": [
    "plt.hist(filtered_data, bins=20, edgecolor='black', alpha=0.7)\n",
    "\n",
    "# Add labels and title\n",
    "plt.xlabel('Value')\n",
    "plt.ylabel('Frequency')\n",
    "plt.title('Histogram to Check Value Distribution')\n",
    "\n",
    "# Show the plot\n",
    "plt.show()"
   ]
  },
  {
   "cell_type": "code",
   "execution_count": null,
   "metadata": {},
   "outputs": [],
   "source": []
  }
 ],
 "metadata": {
  "kernelspec": {
   "display_name": "venv",
   "language": "python",
   "name": "python3"
  },
  "language_info": {
   "codemirror_mode": {
    "name": "ipython",
    "version": 3
   },
   "file_extension": ".py",
   "mimetype": "text/x-python",
   "name": "python",
   "nbconvert_exporter": "python",
   "pygments_lexer": "ipython3",
   "version": "3.10.4"
  }
 },
 "nbformat": 4,
 "nbformat_minor": 2
}
