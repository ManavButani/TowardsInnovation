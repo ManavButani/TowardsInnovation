{
 "cells": [
  {
   "cell_type": "code",
   "execution_count": 12,
   "metadata": {},
   "outputs": [],
   "source": [
    "import yfinance as yf\n",
    "import pandas as pd"
   ]
  },
  {
   "cell_type": "code",
   "execution_count": 13,
   "metadata": {},
   "outputs": [],
   "source": [
    "# Define the ticker symbol for BTCUSD\n",
    "ticker_symbol = 'BTC-USD'"
   ]
  },
  {
   "cell_type": "code",
   "execution_count": 14,
   "metadata": {},
   "outputs": [
    {
     "name": "stderr",
     "output_type": "stream",
     "text": [
      "[*********************100%%**********************]  1 of 1 completed\n"
     ]
    }
   ],
   "source": [
    "df = yf.download(ticker_symbol, start='2024-01-01', end='2024-10-07', interval='1d')"
   ]
  },
  {
   "cell_type": "code",
   "execution_count": 15,
   "metadata": {},
   "outputs": [],
   "source": [
    "df.index.name = df.index.name.lower()\n",
    "df.columns = df.columns.str.lower()"
   ]
  },
  {
   "cell_type": "code",
   "execution_count": 16,
   "metadata": {},
   "outputs": [],
   "source": [
    "df['max'] = df[['open', 'high', 'low', 'close']].max(axis=1)\n",
    "df['min'] = df[['open', 'high', 'low', 'close']].min(axis=1)\n",
    "df['difference'] = df['max'] - df['min']"
   ]
  },
  {
   "cell_type": "code",
   "execution_count": 17,
   "metadata": {},
   "outputs": [
    {
     "data": {
      "text/plain": [
       "<bound method DataFrame.corr of                     open          high           low         close  \\\n",
       "date                                                                 \n",
       "2024-01-01  42280.234375  44175.437500  42214.976562  44167.332031   \n",
       "2024-01-02  44187.140625  45899.707031  44176.949219  44957.968750   \n",
       "2024-01-03  44961.601562  45503.242188  40813.535156  42848.175781   \n",
       "2024-01-04  42855.816406  44770.023438  42675.175781  44179.921875   \n",
       "2024-01-05  44192.980469  44353.285156  42784.718750  44162.691406   \n",
       "...                  ...           ...           ...           ...   \n",
       "2024-08-07  56040.632812  57726.882812  54620.507812  55027.460938   \n",
       "2024-08-08  55030.027344  62673.765625  54766.726562  61710.136719   \n",
       "2024-08-09  61728.207031  61751.863281  59587.859375  60880.113281   \n",
       "2024-08-10  60881.230469  61464.511719  60287.566406  60945.812500   \n",
       "2024-08-11  60943.375000  61332.722656  60921.582031  61285.335938   \n",
       "\n",
       "               adj close       volume           max           min   difference  \n",
       "date                                                                            \n",
       "2024-01-01  44167.332031  18426978443  44175.437500  42214.976562  1960.460938  \n",
       "2024-01-02  44957.968750  39335274536  45899.707031  44176.949219  1722.757812  \n",
       "2024-01-03  42848.175781  46342323118  45503.242188  40813.535156  4689.707031  \n",
       "2024-01-04  44179.921875  30448091210  44770.023438  42675.175781  2094.847656  \n",
       "2024-01-05  44162.691406  32336029347  44353.285156  42784.718750  1568.566406  \n",
       "...                  ...          ...           ...           ...          ...  \n",
       "2024-08-07  55027.460938  41637562185  57726.882812  54620.507812  3106.375000  \n",
       "2024-08-08  61710.136719  45298472567  62673.765625  54766.726562  7907.039062  \n",
       "2024-08-09  60880.113281  33425553115  61751.863281  59587.859375  2164.003906  \n",
       "2024-08-10  60945.812500  15745822278  61464.511719  60287.566406  1176.945312  \n",
       "2024-08-11  61285.335938  14616624128  61332.722656  60921.582031   411.140625  \n",
       "\n",
       "[224 rows x 9 columns]>"
      ]
     },
     "execution_count": 17,
     "metadata": {},
     "output_type": "execute_result"
    }
   ],
   "source": [
    "df.corr"
   ]
  },
  {
   "cell_type": "code",
   "execution_count": 7,
   "metadata": {},
   "outputs": [],
   "source": [
    "# Calculate correlation between volume and each of open, high, low, close\n",
    "correlations = {}\n",
    "for col in ['open','high','low','close','max','min','difference']:\n",
    "  correlations[col] = df['volume'].corr(df[col])\n",
    "\n",
    "# Print the correlations\n",
    "# print(correlations)"
   ]
  },
  {
   "cell_type": "code",
   "execution_count": 8,
   "metadata": {},
   "outputs": [],
   "source": [
    "df = pd.DataFrame(correlations, index=['volume'])"
   ]
  },
  {
   "cell_type": "code",
   "execution_count": 9,
   "metadata": {},
   "outputs": [
    {
     "data": {
      "text/html": [
       "<div>\n",
       "<style scoped>\n",
       "    .dataframe tbody tr th:only-of-type {\n",
       "        vertical-align: middle;\n",
       "    }\n",
       "\n",
       "    .dataframe tbody tr th {\n",
       "        vertical-align: top;\n",
       "    }\n",
       "\n",
       "    .dataframe thead th {\n",
       "        text-align: right;\n",
       "    }\n",
       "</style>\n",
       "<table border=\"1\" class=\"dataframe\">\n",
       "  <thead>\n",
       "    <tr style=\"text-align: right;\">\n",
       "      <th></th>\n",
       "      <th>open</th>\n",
       "      <th>high</th>\n",
       "      <th>low</th>\n",
       "      <th>close</th>\n",
       "      <th>max</th>\n",
       "      <th>min</th>\n",
       "      <th>difference</th>\n",
       "    </tr>\n",
       "  </thead>\n",
       "  <tbody>\n",
       "    <tr>\n",
       "      <th>volume</th>\n",
       "      <td>0.241146</td>\n",
       "      <td>0.284543</td>\n",
       "      <td>0.145599</td>\n",
       "      <td>0.228633</td>\n",
       "      <td>0.284543</td>\n",
       "      <td>0.145599</td>\n",
       "      <td>0.863848</td>\n",
       "    </tr>\n",
       "  </tbody>\n",
       "</table>\n",
       "</div>"
      ],
      "text/plain": [
       "            open      high       low     close       max       min  difference\n",
       "volume  0.241146  0.284543  0.145599  0.228633  0.284543  0.145599    0.863848"
      ]
     },
     "execution_count": 9,
     "metadata": {},
     "output_type": "execute_result"
    }
   ],
   "source": [
    "df"
   ]
  },
  {
   "cell_type": "code",
   "execution_count": 13,
   "metadata": {},
   "outputs": [],
   "source": [
    "############ Nice Job ##############"
   ]
  },
  {
   "cell_type": "code",
   "execution_count": 14,
   "metadata": {},
   "outputs": [],
   "source": [
    "# Conclusion: There is a high correlation between candle size and volume"
   ]
  },
  {
   "cell_type": "code",
   "execution_count": 15,
   "metadata": {},
   "outputs": [],
   "source": [
    "# Almost 86%"
   ]
  },
  {
   "cell_type": "code",
   "execution_count": 10,
   "metadata": {},
   "outputs": [
    {
     "data": {
      "text/plain": [
       "<bound method DataFrame.corr of             open      high       low     close       max       min  difference\n",
       "volume  0.241146  0.284543  0.145599  0.228633  0.284543  0.145599    0.863848>"
      ]
     },
     "execution_count": 10,
     "metadata": {},
     "output_type": "execute_result"
    }
   ],
   "source": [
    "df.corr"
   ]
  },
  {
   "cell_type": "code",
   "execution_count": null,
   "metadata": {},
   "outputs": [],
   "source": []
  }
 ],
 "metadata": {
  "kernelspec": {
   "display_name": "venv",
   "language": "python",
   "name": "python3"
  },
  "language_info": {
   "codemirror_mode": {
    "name": "ipython",
    "version": 3
   },
   "file_extension": ".py",
   "mimetype": "text/x-python",
   "name": "python",
   "nbconvert_exporter": "python",
   "pygments_lexer": "ipython3",
   "version": "3.10.8"
  }
 },
 "nbformat": 4,
 "nbformat_minor": 2
}
