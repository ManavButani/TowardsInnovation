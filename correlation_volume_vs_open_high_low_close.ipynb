{
 "cells": [
  {
   "cell_type": "code",
   "execution_count": 1,
   "metadata": {},
   "outputs": [],
   "source": [
    "import yfinance as yf\n",
    "import pandas as pd"
   ]
  },
  {
   "cell_type": "code",
   "execution_count": 2,
   "metadata": {},
   "outputs": [],
   "source": [
    "# Define the ticker symbol for BTCUSD\n",
    "ticker_symbol = 'BTC-USD'"
   ]
  },
  {
   "cell_type": "code",
   "execution_count": 3,
   "metadata": {},
   "outputs": [
    {
     "name": "stderr",
     "output_type": "stream",
     "text": [
      "[*********************100%%**********************]  1 of 1 completed\n"
     ]
    }
   ],
   "source": [
    "btc_data_from_2019_to_2024_part_1_1_d = yf.download(ticker_symbol, start='2024-01-01', end='2024-10-07', interval='1d')"
   ]
  },
  {
   "cell_type": "code",
   "execution_count": 4,
   "metadata": {},
   "outputs": [],
   "source": [
    "btc_data_from_2019_to_2024_part_1_1_d.index.name = btc_data_from_2019_to_2024_part_1_1_d.index.name.lower()\n",
    "btc_data_from_2019_to_2024_part_1_1_d.columns = btc_data_from_2019_to_2024_part_1_1_d.columns.str.lower()"
   ]
  },
  {
   "cell_type": "code",
   "execution_count": 5,
   "metadata": {},
   "outputs": [],
   "source": [
    "btc_data_from_2019_to_2024_part_1_1_d['max'] = btc_data_from_2019_to_2024_part_1_1_d[['open', 'high', 'low', 'close']].max(axis=1)\n",
    "btc_data_from_2019_to_2024_part_1_1_d['min'] = btc_data_from_2019_to_2024_part_1_1_d[['open', 'high', 'low', 'close']].min(axis=1)\n",
    "btc_data_from_2019_to_2024_part_1_1_d['difference'] = btc_data_from_2019_to_2024_part_1_1_d['max'] - btc_data_from_2019_to_2024_part_1_1_d['min']"
   ]
  },
  {
   "cell_type": "code",
   "execution_count": 6,
   "metadata": {},
   "outputs": [
    {
     "name": "stdout",
     "output_type": "stream",
     "text": [
      "{'open': 0.2411472873626891, 'high': 0.28454392095703906, 'low': 0.14560012711098144, 'close': 0.22871178693617703, 'max': 0.28454392095703906, 'min': 0.14560012711098144, 'difference': 0.8638472759672613}\n"
     ]
    }
   ],
   "source": [
    "# Calculate correlation between volume and each of open, high, low, close\n",
    "correlations = {}\n",
    "for col in ['open','high','low','close','max','min','difference']:\n",
    "  correlations[col] = btc_data_from_2019_to_2024_part_1_1_d['volume'].corr(btc_data_from_2019_to_2024_part_1_1_d[col])\n",
    "\n",
    "# Print the correlations\n",
    "# print(correlations)"
   ]
  },
  {
   "cell_type": "code",
   "execution_count": 11,
   "metadata": {},
   "outputs": [],
   "source": [
    "df = pd.DataFrame(correlations, index=['volume'])"
   ]
  },
  {
   "cell_type": "code",
   "execution_count": 12,
   "metadata": {},
   "outputs": [
    {
     "data": {
      "text/html": [
       "<div>\n",
       "<style scoped>\n",
       "    .dataframe tbody tr th:only-of-type {\n",
       "        vertical-align: middle;\n",
       "    }\n",
       "\n",
       "    .dataframe tbody tr th {\n",
       "        vertical-align: top;\n",
       "    }\n",
       "\n",
       "    .dataframe thead th {\n",
       "        text-align: right;\n",
       "    }\n",
       "</style>\n",
       "<table border=\"1\" class=\"dataframe\">\n",
       "  <thead>\n",
       "    <tr style=\"text-align: right;\">\n",
       "      <th></th>\n",
       "      <th>open</th>\n",
       "      <th>high</th>\n",
       "      <th>low</th>\n",
       "      <th>close</th>\n",
       "      <th>max</th>\n",
       "      <th>min</th>\n",
       "      <th>difference</th>\n",
       "    </tr>\n",
       "  </thead>\n",
       "  <tbody>\n",
       "    <tr>\n",
       "      <th>volume</th>\n",
       "      <td>0.241147</td>\n",
       "      <td>0.284544</td>\n",
       "      <td>0.1456</td>\n",
       "      <td>0.228712</td>\n",
       "      <td>0.284544</td>\n",
       "      <td>0.1456</td>\n",
       "      <td>0.863847</td>\n",
       "    </tr>\n",
       "  </tbody>\n",
       "</table>\n",
       "</div>"
      ],
      "text/plain": [
       "            open      high     low     close       max     min  difference\n",
       "volume  0.241147  0.284544  0.1456  0.228712  0.284544  0.1456    0.863847"
      ]
     },
     "execution_count": 12,
     "metadata": {},
     "output_type": "execute_result"
    }
   ],
   "source": [
    "df"
   ]
  },
  {
   "cell_type": "code",
   "execution_count": 13,
   "metadata": {},
   "outputs": [],
   "source": [
    "############ Nice Job ##############"
   ]
  },
  {
   "cell_type": "code",
   "execution_count": 14,
   "metadata": {},
   "outputs": [],
   "source": [
    "# Conclusion: There is a high correlation between candle size and volume"
   ]
  },
  {
   "cell_type": "code",
   "execution_count": 15,
   "metadata": {},
   "outputs": [],
   "source": [
    "# Almost 86%"
   ]
  }
 ],
 "metadata": {
  "kernelspec": {
   "display_name": "venv",
   "language": "python",
   "name": "python3"
  },
  "language_info": {
   "codemirror_mode": {
    "name": "ipython",
    "version": 3
   },
   "file_extension": ".py",
   "mimetype": "text/x-python",
   "name": "python",
   "nbconvert_exporter": "python",
   "pygments_lexer": "ipython3",
   "version": "3.10.8"
  }
 },
 "nbformat": 4,
 "nbformat_minor": 2
}
