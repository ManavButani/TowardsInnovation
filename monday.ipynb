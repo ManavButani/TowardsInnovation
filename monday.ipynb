{
 "cells": [
  {
   "cell_type": "code",
   "execution_count": 1,
   "metadata": {},
   "outputs": [],
   "source": [
    "import yfinance as yf\n",
    "import pandas as pd"
   ]
  },
  {
   "cell_type": "code",
   "execution_count": 2,
   "metadata": {},
   "outputs": [
    {
     "name": "stderr",
     "output_type": "stream",
     "text": [
      "[*********************100%%**********************]  1 of 1 completed\n"
     ]
    }
   ],
   "source": [
    "ticker_symbol = 'BTC-USD'\n",
    "df = yf.download(ticker_symbol, start='2024-01-01', end='2024-10-07', interval='60m')\n",
    "df.index.name = df.index.name.lower()\n",
    "df.columns = df.columns.str.lower()\n",
    "df['year'] = df.index.year\n",
    "df['month'] = df.index.month\n",
    "df['hour'] = df.index.hour\n",
    "df['day'] = df.index.day\n",
    "df['day_name'] = df.index.day_name()"
   ]
  },
  {
   "cell_type": "code",
   "execution_count": 3,
   "metadata": {},
   "outputs": [],
   "source": [
    "new_df = df.groupby(['day','day_name', 'month', 'hour']).agg({'volume': 'sum'}).reset_index().sort_values(by='volume', ascending=False)"
   ]
  },
  {
   "cell_type": "code",
   "execution_count": 4,
   "metadata": {},
   "outputs": [],
   "source": [
    "tuesday_data = new_df[new_df['day_name']=='Monday']"
   ]
  },
  {
   "cell_type": "code",
   "execution_count": 5,
   "metadata": {},
   "outputs": [],
   "source": [
    "january_tuesday_hourly_groped = tuesday_data[tuesday_data['month']==1].groupby(['hour']).agg({'volume': 'sum'}).sort_values(by='volume', ascending=False)\n",
    "february_tuesday_hourly_groped = tuesday_data[tuesday_data['month']==2].groupby(['hour']).agg({'volume': 'sum'}).sort_values(by='volume', ascending=False)\n",
    "march_tuesday_hourly_groped = tuesday_data[tuesday_data['month']==3].groupby(['hour']).agg({'volume': 'sum'}).sort_values(by='volume', ascending=False)\n",
    "april_tuesday_hourly_groped = tuesday_data[tuesday_data['month']==4].groupby(['hour']).agg({'volume': 'sum'}).sort_values(by='volume', ascending=False)\n",
    "may_tuesday_hourly_groped = tuesday_data[tuesday_data['month']==5].groupby(['hour']).agg({'volume': 'sum'}).sort_values(by='volume', ascending=False)\n",
    "june_tuesday_hourly_groped = tuesday_data[tuesday_data['month']==6].groupby(['hour']).agg({'volume': 'sum'}).sort_values(by='volume', ascending=False)\n",
    "july_tuesday_hourly_groped = tuesday_data[tuesday_data['month']==7].groupby(['hour']).agg({'volume': 'sum'}).sort_values(by='volume', ascending=False)\n",
    "aug_tuesday_hourly_groped = tuesday_data[tuesday_data['month']==8].groupby(['hour']).agg({'volume': 'sum'}).sort_values(by='volume', ascending=False)\n",
    "sep_tuesday_hourly_groped = tuesday_data[tuesday_data['month']==9].groupby(['hour']).agg({'volume': 'sum'}).sort_values(by='volume', ascending=False)\n",
    "oct_tuesday_hourly_groped = tuesday_data[tuesday_data['month']==10].groupby(['hour']).agg({'volume': 'sum'}).sort_values(by='volume', ascending=False)"
   ]
  },
  {
   "cell_type": "code",
   "execution_count": 6,
   "metadata": {},
   "outputs": [
    {
     "name": "stdout",
     "output_type": "stream",
     "text": [
      "January [18 19 12 20 16 15 17 14 21  6 13 11 10  3  5  1 23  0  4  2  8  9  7 22]\n",
      "February [15 16 17 19 20 18 14 21  0 13  9 10  1  7  6 22  8  2 11 12 23  4  3  5]\n",
      "March [14 15  7  8 17 16 19  0 13 18 20 21 11 23  9  1 10  5  2  4 12  6  3 22]\n",
      "April [14 15  6  8  7 19  9 13 10 16 12  5 17 11 20  1  4  3 18 22 21  2  0 23]\n",
      "May [19 20 15  8 23 16 17 14 12 13 21  6 10 18 22  7  5 11  1  9  2  3  4  0]\n",
      "June [16 17 20  9 18 15 13 14  6  8 19  7 10  1  2  5 12  0 11 21  4  3 23 22]\n",
      "July [14 16 15 13  2  1 17  8 12 19  9 18  3  0 11  6 10 23  7 20 22  4  5 21]\n"
     ]
    }
   ],
   "source": [
    "print(\"January\", january_tuesday_hourly_groped.index.values)\n",
    "print(\"February\", february_tuesday_hourly_groped.index.values)\n",
    "print(\"March\", march_tuesday_hourly_groped.index.values)\n",
    "print(\"April\", april_tuesday_hourly_groped.index.values)\n",
    "print(\"May\", may_tuesday_hourly_groped.index.values)\n",
    "print(\"June\", june_tuesday_hourly_groped.index.values)\n",
    "print(\"July\", july_tuesday_hourly_groped.index.values)\n",
    "# print(\"August\", aug_tuesday_hourly_groped.index.values)"
   ]
  },
  {
   "cell_type": "code",
   "execution_count": 7,
   "metadata": {},
   "outputs": [],
   "source": [
    "# Ana parathi aetli to khabar padi k 21,22,23 na samaye trade na karay volume bav low hoy chhe"
   ]
  },
  {
   "cell_type": "code",
   "execution_count": 8,
   "metadata": {},
   "outputs": [],
   "source": [
    "january_most_repeating = january_tuesday_hourly_groped.index.values[:len(january_tuesday_hourly_groped)//2]\n",
    "january_least_repeating = january_tuesday_hourly_groped.index.values[len(january_tuesday_hourly_groped)//2:]\n",
    "\n",
    "february_most_repeating = february_tuesday_hourly_groped.index.values[:len(february_tuesday_hourly_groped)//2]\n",
    "february_least_repeating = february_tuesday_hourly_groped.index.values[len(february_tuesday_hourly_groped)//2:]\n",
    "\n",
    "march_most_repeating = march_tuesday_hourly_groped.index.values[:len(march_tuesday_hourly_groped)//2]\n",
    "march_least_repeating = march_tuesday_hourly_groped.index.values[len(march_tuesday_hourly_groped)//2:]\n",
    "\n",
    "april_most_repeating = april_tuesday_hourly_groped.index.values[:len(april_tuesday_hourly_groped)//2]\n",
    "april_least_repeating = april_tuesday_hourly_groped.index.values[len(april_tuesday_hourly_groped)//2:]\n",
    "\n",
    "may_most_repeating = may_tuesday_hourly_groped.index.values[:len(may_tuesday_hourly_groped)//2]\n",
    "may_least_repeating = may_tuesday_hourly_groped.index.values[len(may_tuesday_hourly_groped)//2:]\n",
    "\n",
    "june_most_repeating = june_tuesday_hourly_groped.index.values[:len(june_tuesday_hourly_groped)//2]\n",
    "june_least_repeating = june_tuesday_hourly_groped.index.values[len(june_tuesday_hourly_groped)//2:]\n",
    "\n",
    "july_most_repeating = july_tuesday_hourly_groped.index.values[:len(july_tuesday_hourly_groped)//2]\n",
    "july_least_repeating = july_tuesday_hourly_groped.index.values[len(july_tuesday_hourly_groped)//2:]\n"
   ]
  },
  {
   "cell_type": "code",
   "execution_count": 9,
   "metadata": {},
   "outputs": [],
   "source": [
    "most_repeating = list(january_most_repeating) + list(february_most_repeating) + list(march_most_repeating) + list(april_most_repeating) + list(may_most_repeating) + list(june_most_repeating) + list(july_most_repeating)"
   ]
  },
  {
   "cell_type": "code",
   "execution_count": 10,
   "metadata": {},
   "outputs": [],
   "source": [
    "least_repeating = list(january_least_repeating) + list(february_least_repeating) + list(march_least_repeating) + list(april_least_repeating) + list(may_least_repeating) + list(june_least_repeating) + list(july_least_repeating)"
   ]
  },
  {
   "cell_type": "code",
   "execution_count": 11,
   "metadata": {},
   "outputs": [
    {
     "data": {
      "text/plain": [
       "84"
      ]
     },
     "execution_count": 11,
     "metadata": {},
     "output_type": "execute_result"
    }
   ],
   "source": [
    "len(least_repeating)"
   ]
  },
  {
   "cell_type": "code",
   "execution_count": 12,
   "metadata": {},
   "outputs": [
    {
     "data": {
      "text/plain": [
       "84"
      ]
     },
     "execution_count": 12,
     "metadata": {},
     "output_type": "execute_result"
    }
   ],
   "source": [
    "len(most_repeating)"
   ]
  },
  {
   "cell_type": "code",
   "execution_count": 13,
   "metadata": {},
   "outputs": [],
   "source": [
    "from collections import Counter\n",
    "most_repeating_counts = Counter(most_repeating)\n",
    "least_repeating_counts = Counter(least_repeating)"
   ]
  },
  {
   "cell_type": "code",
   "execution_count": 14,
   "metadata": {},
   "outputs": [
    {
     "data": {
      "text/plain": [
       "Counter({19: 7,\n",
       "         16: 7,\n",
       "         15: 7,\n",
       "         14: 7,\n",
       "         13: 7,\n",
       "         17: 6,\n",
       "         18: 5,\n",
       "         20: 5,\n",
       "         8: 5,\n",
       "         12: 4,\n",
       "         21: 4,\n",
       "         6: 4,\n",
       "         9: 4,\n",
       "         7: 3,\n",
       "         0: 2,\n",
       "         10: 2,\n",
       "         11: 1,\n",
       "         5: 1,\n",
       "         23: 1,\n",
       "         2: 1,\n",
       "         1: 1})"
      ]
     },
     "execution_count": 14,
     "metadata": {},
     "output_type": "execute_result"
    }
   ],
   "source": [
    "most_repeating_counts"
   ]
  },
  {
   "cell_type": "code",
   "execution_count": 15,
   "metadata": {},
   "outputs": [
    {
     "data": {
      "text/plain": [
       "Counter({3: 7,\n",
       "         4: 7,\n",
       "         22: 7,\n",
       "         5: 6,\n",
       "         1: 6,\n",
       "         23: 6,\n",
       "         2: 6,\n",
       "         11: 6,\n",
       "         10: 5,\n",
       "         0: 5,\n",
       "         7: 4,\n",
       "         9: 3,\n",
       "         6: 3,\n",
       "         12: 3,\n",
       "         21: 3,\n",
       "         8: 2,\n",
       "         20: 2,\n",
       "         18: 2,\n",
       "         17: 1})"
      ]
     },
     "execution_count": 15,
     "metadata": {},
     "output_type": "execute_result"
    }
   ],
   "source": [
    "least_repeating_counts"
   ]
  },
  {
   "cell_type": "code",
   "execution_count": 16,
   "metadata": {},
   "outputs": [],
   "source": [
    "# At 23, the volume is very low."
   ]
  },
  {
   "cell_type": "code",
   "execution_count": 17,
   "metadata": {},
   "outputs": [],
   "source": [
    "most_repeating = dict(sorted(most_repeating_counts.items(), key=lambda item: item[0]))\n",
    "least_repeating = dict(sorted(least_repeating_counts.items(), key=lambda item: item[0]))"
   ]
  },
  {
   "cell_type": "code",
   "execution_count": 18,
   "metadata": {},
   "outputs": [
    {
     "data": {
      "text/plain": [
       "{0: 2,\n",
       " 1: 1,\n",
       " 2: 1,\n",
       " 5: 1,\n",
       " 6: 4,\n",
       " 7: 3,\n",
       " 8: 5,\n",
       " 9: 4,\n",
       " 10: 2,\n",
       " 11: 1,\n",
       " 12: 4,\n",
       " 13: 7,\n",
       " 14: 7,\n",
       " 15: 7,\n",
       " 16: 7,\n",
       " 17: 6,\n",
       " 18: 5,\n",
       " 19: 7,\n",
       " 20: 5,\n",
       " 21: 4,\n",
       " 23: 1}"
      ]
     },
     "execution_count": 18,
     "metadata": {},
     "output_type": "execute_result"
    }
   ],
   "source": [
    "most_repeating"
   ]
  },
  {
   "cell_type": "code",
   "execution_count": 19,
   "metadata": {},
   "outputs": [
    {
     "data": {
      "text/plain": [
       "{0: 5,\n",
       " 1: 6,\n",
       " 2: 6,\n",
       " 3: 7,\n",
       " 4: 7,\n",
       " 5: 6,\n",
       " 6: 3,\n",
       " 7: 4,\n",
       " 8: 2,\n",
       " 9: 3,\n",
       " 10: 5,\n",
       " 11: 6,\n",
       " 12: 3,\n",
       " 17: 1,\n",
       " 18: 2,\n",
       " 20: 2,\n",
       " 21: 3,\n",
       " 22: 7,\n",
       " 23: 6}"
      ]
     },
     "execution_count": 19,
     "metadata": {},
     "output_type": "execute_result"
    }
   ],
   "source": [
    "least_repeating"
   ]
  },
  {
   "cell_type": "code",
   "execution_count": 20,
   "metadata": {},
   "outputs": [],
   "source": [
    "# Give me the timestamp where volume category comes in range of more than 60%.\n",
    "\n",
    "# x / 7 ? >= 0.6\n",
    "\n",
    "# x could be [5,6,7]"
   ]
  },
  {
   "cell_type": "code",
   "execution_count": 21,
   "metadata": {},
   "outputs": [],
   "source": [
    "# means you should avoid trades or make a trade, right \n",
    "\n",
    "avoid_trades = [key for key, value in least_repeating.items() if value > 4]\n",
    "make_trades = [key for key, value in most_repeating.items() if value > 4]"
   ]
  },
  {
   "cell_type": "code",
   "execution_count": 22,
   "metadata": {},
   "outputs": [
    {
     "data": {
      "text/plain": [
       "[0, 1, 2, 3, 4, 5, 10, 11, 22, 23]"
      ]
     },
     "execution_count": 22,
     "metadata": {},
     "output_type": "execute_result"
    }
   ],
   "source": [
    "avoid_trades"
   ]
  },
  {
   "cell_type": "code",
   "execution_count": 23,
   "metadata": {},
   "outputs": [
    {
     "data": {
      "text/plain": [
       "[8, 13, 14, 15, 16, 17, 18, 19, 20]"
      ]
     },
     "execution_count": 23,
     "metadata": {},
     "output_type": "execute_result"
    }
   ],
   "source": [
    "make_trades"
   ]
  },
  {
   "cell_type": "code",
   "execution_count": null,
   "metadata": {},
   "outputs": [],
   "source": []
  }
 ],
 "metadata": {
  "kernelspec": {
   "display_name": "venv",
   "language": "python",
   "name": "python3"
  },
  "language_info": {
   "codemirror_mode": {
    "name": "ipython",
    "version": 3
   },
   "file_extension": ".py",
   "mimetype": "text/x-python",
   "name": "python",
   "nbconvert_exporter": "python",
   "pygments_lexer": "ipython3",
   "version": "3.10.8"
  }
 },
 "nbformat": 4,
 "nbformat_minor": 2
}
