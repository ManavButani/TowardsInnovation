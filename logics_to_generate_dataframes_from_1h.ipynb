{
 "cells": [
  {
   "cell_type": "code",
   "execution_count": 81,
   "metadata": {},
   "outputs": [],
   "source": [
    "import pandas as pd\n",
    "df = pd.read_csv('BTCUSD_last_few_years_1h_2023.csv')"
   ]
  },
  {
   "cell_type": "code",
   "execution_count": 82,
   "metadata": {},
   "outputs": [],
   "source": [
    "# TO GENERATE 4 HOURS DATAFRAME\n",
    "df_4h = pd.DataFrame()\n",
    "for _, group in df.groupby(by=['year','month','day']):\n",
    "    for i in list(range(0, len(group), 4)):\n",
    "        df = group.iloc[i:i+4]\n",
    "        ohlc_data = pd.DataFrame({\n",
    "        'high' : [df['max'].max()],\n",
    "        'low' : [df['min'].min()],\n",
    "        'open' : [df.iloc[0].open],\n",
    "        'close' : [df.iloc[-1].close],\n",
    "        'year': [df.iloc[0].year],\n",
    "        'month': [df.iloc[0].month],\n",
    "        'day': [df.iloc[0].day],\n",
    "        'hour': [df.iloc[0].hour],\n",
    "        })\n",
    "\n",
    "        ohlc_data.index = pd.to_datetime([f\"{int(df.iloc[-1].year)}-{int(df.iloc[-1].month)}-{int(df.iloc[-1].day)}\"])\n",
    "        df_4h = pd.concat([df_4h, ohlc_data])"
   ]
  },
  {
   "cell_type": "code",
   "execution_count": 83,
   "metadata": {},
   "outputs": [],
   "source": [
    "df_4h['year'] = df_4h.index.year.astype(int)\n",
    "df_4h['month'] = df_4h.index.month.astype(int)\n",
    "df_4h['day'] = df_4h.index.day.astype(int)\n",
    "df_4h['day_name'] = df_4h.index.day_name()\n",
    "df_4h['hour'] = df_4h['hour'].astype(int)\n",
    "df_4h['max'] = df_4h[['open', 'high', 'low', 'close']].max(axis=1)\n",
    "df_4h['min'] = df_4h[['open', 'high', 'low', 'close']].min(axis=1)\n",
    "df_4h['difference'] = df_4h['max'] - df_4h['min']\n",
    "df_4h['candle_body'] = df_4h['open'] - df_4h['close']\n",
    "df_4h['high_shadow'] = df_4h['high'] - df_4h[['open', 'close']].max(axis=1)\n",
    "df_4h['low_shadow'] = df_4h['low'] - df_4h[['open', 'close']].min(axis=1)\n",
    "df_4h['low-open'] = df_4h['low'] - df_4h['open']\n",
    "df_4h['high-open'] = df_4h['high'] - df_4h['open']\n",
    "df_4h['trend'] = df_4h['candle_body'].apply(lambda x: \"UP\" if x < 0 else \"ZERO\" if x == 0 else \"DOWN\")\n",
    "df_4h['7_EMA'] = df_4h['close'].ewm(span=7, adjust=False).mean()\n",
    "df_4h['15_EMA'] = df_4h['close'].ewm(span=15, adjust=False).mean()\n",
    "df_4h['50_EMA'] = df_4h['close'].ewm(span=50, adjust=False).mean()\n",
    "df_4h['200_EMA'] = df_4h['close'].ewm(span=200, adjust=False).mean()"
   ]
  },
  {
   "cell_type": "code",
   "execution_count": 84,
   "metadata": {},
   "outputs": [
    {
     "data": {
      "text/plain": [
       "array([ 0,  4,  8, 12, 16, 20, 14, 18, 22, 19, 23, 17, 21])"
      ]
     },
     "execution_count": 84,
     "metadata": {},
     "output_type": "execute_result"
    }
   ],
   "source": [
    "df_4h['hour'].unique()"
   ]
  },
  {
   "cell_type": "code",
   "execution_count": 80,
   "metadata": {},
   "outputs": [],
   "source": [
    "df_4h.to_csv('BTCUSD_2024_4h.csv',index=True)"
   ]
  },
  {
   "cell_type": "code",
   "execution_count": null,
   "metadata": {},
   "outputs": [],
   "source": []
  }
 ],
 "metadata": {
  "kernelspec": {
   "display_name": ".venv",
   "language": "python",
   "name": "python3"
  },
  "language_info": {
   "codemirror_mode": {
    "name": "ipython",
    "version": 3
   },
   "file_extension": ".py",
   "mimetype": "text/x-python",
   "name": "python",
   "nbconvert_exporter": "python",
   "pygments_lexer": "ipython3",
   "version": "3.10.4"
  }
 },
 "nbformat": 4,
 "nbformat_minor": 2
}
